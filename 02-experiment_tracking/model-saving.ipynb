{
 "cells": [
  {
   "cell_type": "code",
   "execution_count": 2,
   "id": "0d9c49e6",
   "metadata": {},
   "outputs": [],
   "source": [
    "import pandas as pd\n",
    "import pickle\n",
    "from sklearn.feature_extraction import DictVectorizer\n",
    "from sklearn.linear_model import LinearRegression\n",
    "from sklearn.linear_model import Lasso\n",
    "from sklearn.linear_model import Ridge\n",
    "\n",
    "from sklearn.metrics import root_mean_squared_error\n",
    "import mlflow\n",
    "\n",
    "mlflow.set_tracking_uri(\"sqlite:///mlflow.db\")\n",
    "import xgboost as xgb \n",
    "from hyperopt import fmin, tpe, hp, STATUS_OK, Trials\n",
    "from hyperopt.pyll import scope\n"
   ]
  },
  {
   "cell_type": "code",
   "execution_count": 3,
   "id": "503a4ff1",
   "metadata": {},
   "outputs": [
    {
     "data": {
      "text/plain": [
       "7.758715212021978"
      ]
     },
     "execution_count": 3,
     "metadata": {},
     "output_type": "execute_result"
    }
   ],
   "source": [
    "def read_dataframe(filename):\n",
    "    if filename.endswith('.csv'):\n",
    "        df = pd.read_csv(filename)\n",
    "\n",
    "        df.lpep_dropoff_datetime = pd.to_datetime(df.lpep_dropoff_datetime)\n",
    "        df.lpep_pickup_datetime = pd.to_datetime(df.lpep_pickup_datetime)\n",
    "    elif filename.endswith('.parquet'):\n",
    "        df = pd.read_parquet(filename)\n",
    "\n",
    "    df['duration'] = df.lpep_dropoff_datetime - df.lpep_pickup_datetime\n",
    "    df.duration = df.duration.apply(lambda td: td.total_seconds() / 60)\n",
    "\n",
    "    df = df[(df.duration >= 1) & (df.duration <= 60)]\n",
    "\n",
    "    categorical = ['PULocationID', 'DOLocationID']\n",
    "    df[categorical] = df[categorical].astype(str)\n",
    "    \n",
    "    return df\n",
    "df_train = read_dataframe('./data/green_tripdata_2021-01.parquet')\n",
    "df_val = read_dataframe('./data/green_tripdata_2021-02.parquet')\n",
    "df_train['PU_DO'] = df_train['PULocationID'] + '_' + df_train['DOLocationID']\n",
    "df_val['PU_DO'] = df_val['PULocationID'] + '_' + df_val['DOLocationID']\n",
    "categorical = ['PU_DO'] #'PULocationID', 'DOLocationID']\n",
    "numerical = ['trip_distance']\n",
    "\n",
    "dv = DictVectorizer()\n",
    "\n",
    "train_dicts = df_train[categorical + numerical].to_dict(orient='records')\n",
    "X_train = dv.fit_transform(train_dicts)\n",
    "\n",
    "val_dicts = df_val[categorical + numerical].to_dict(orient='records')\n",
    "X_val = dv.transform(val_dicts)\n",
    "target = 'duration'\n",
    "y_train = df_train[target].values\n",
    "y_val = df_val[target].values\n",
    "lr = LinearRegression()\n",
    "lr.fit(X_train, y_train)\n",
    "\n",
    "y_pred = lr.predict(X_val)\n",
    "\n",
    "root_mean_squared_error(y_val, y_pred)"
   ]
  },
  {
   "cell_type": "code",
   "execution_count": 4,
   "id": "fa9de590",
   "metadata": {},
   "outputs": [
    {
     "data": {
      "text/plain": [
       "<Experiment: artifact_location=('file:d:/Github '\n",
       " 'repos/mlops-zoomcamp/02-experiment_tracking/mlruns/482108769645636610'), creation_time=1747986607300, experiment_id='482108769645636610', last_update_time=1747986607300, lifecycle_stage='active', name='xgboost_2', tags={}>"
      ]
     },
     "execution_count": 4,
     "metadata": {},
     "output_type": "execute_result"
    }
   ],
   "source": [
    "mlflow.set_tracking_uri(\"file:./mlruns\")  # Ensure logging to local directory\n",
    "\n",
    "mlflow.set_experiment(\"xgboost_2\")  # Optional: organize your runs\n",
    "\n"
   ]
  },
  {
   "cell_type": "code",
   "execution_count": 5,
   "id": "8ab05edc",
   "metadata": {},
   "outputs": [],
   "source": [
    "train = xgb.DMatrix(X_train, label=y_train)\n",
    "valid = xgb.DMatrix(X_val, label=y_val)\n"
   ]
  },
  {
   "cell_type": "code",
   "execution_count": 6,
   "id": "2399b07f",
   "metadata": {},
   "outputs": [
    {
     "name": "stderr",
     "output_type": "stream",
     "text": [
      "c:\\Users\\Ultracell\\anaconda3\\envs\\MLOPs\\Lib\\site-packages\\xgboost\\callback.py:386: UserWarning: [08:58:30] WARNING: C:\\actions-runner\\_work\\xgboost\\xgboost\\src\\objective\\regression_obj.cu:250: reg:linear is now deprecated in favor of reg:squarederror.\n",
      "  self.starting_round = model.num_boosted_rounds()\n"
     ]
    },
    {
     "ename": "MlflowException",
     "evalue": "Path 'd:\\Github_repos\\mlops-zoomcamp\\02-experiment_tracking\\models_mlflow' already exists and is not empty",
     "output_type": "error",
     "traceback": [
      "\u001b[31m---------------------------------------------------------------------------\u001b[39m",
      "\u001b[31mMlflowException\u001b[39m                           Traceback (most recent call last)",
      "\u001b[36mCell\u001b[39m\u001b[36m \u001b[39m\u001b[32mIn[6]\u001b[39m\u001b[32m, line 29\u001b[39m\n\u001b[32m     27\u001b[39m mlflow.log_metric(\u001b[33m\"\u001b[39m\u001b[33mrmse\u001b[39m\u001b[33m\"\u001b[39m, rmse)\n\u001b[32m     28\u001b[39m mlflow.log_param(\u001b[33m\"\u001b[39m\u001b[33mbooster\u001b[39m\u001b[33m\"\u001b[39m, booster)    \n\u001b[32m---> \u001b[39m\u001b[32m29\u001b[39m mlflow.xgboost.save_model(booster, path=\u001b[33m\"\u001b[39m\u001b[33mmodels_mlflow\u001b[39m\u001b[33m\"\u001b[39m)\n",
      "\u001b[36mFile \u001b[39m\u001b[32mc:\\Users\\Ultracell\\anaconda3\\envs\\MLOPs\\Lib\\site-packages\\mlflow\\xgboost\\__init__.py:147\u001b[39m, in \u001b[36msave_model\u001b[39m\u001b[34m(xgb_model, path, conda_env, code_paths, mlflow_model, signature, input_example, pip_requirements, extra_pip_requirements, model_format, metadata)\u001b[39m\n\u001b[32m    144\u001b[39m _validate_env_arguments(conda_env, pip_requirements, extra_pip_requirements)\n\u001b[32m    146\u001b[39m path = os.path.abspath(path)\n\u001b[32m--> \u001b[39m\u001b[32m147\u001b[39m _validate_and_prepare_target_save_path(path)\n\u001b[32m    148\u001b[39m code_dir_subpath = _validate_and_copy_code_paths(code_paths, path)\n\u001b[32m    150\u001b[39m \u001b[38;5;28;01mif\u001b[39;00m mlflow_model \u001b[38;5;129;01mis\u001b[39;00m \u001b[38;5;28;01mNone\u001b[39;00m:\n",
      "\u001b[36mFile \u001b[39m\u001b[32mc:\\Users\\Ultracell\\anaconda3\\envs\\MLOPs\\Lib\\site-packages\\mlflow\\utils\\model_utils.py:268\u001b[39m, in \u001b[36m_validate_and_prepare_target_save_path\u001b[39m\u001b[34m(path)\u001b[39m\n\u001b[32m    266\u001b[39m \u001b[38;5;28;01mdef\u001b[39;00m\u001b[38;5;250m \u001b[39m\u001b[34m_validate_and_prepare_target_save_path\u001b[39m(path):\n\u001b[32m    267\u001b[39m     \u001b[38;5;28;01mif\u001b[39;00m os.path.exists(path) \u001b[38;5;129;01mand\u001b[39;00m \u001b[38;5;28many\u001b[39m(os.scandir(path)):\n\u001b[32m--> \u001b[39m\u001b[32m268\u001b[39m         \u001b[38;5;28;01mraise\u001b[39;00m MlflowException(\n\u001b[32m    269\u001b[39m             message=\u001b[33mf\u001b[39m\u001b[33m\"\u001b[39m\u001b[33mPath \u001b[39m\u001b[33m'\u001b[39m\u001b[38;5;132;01m{\u001b[39;00mpath\u001b[38;5;132;01m}\u001b[39;00m\u001b[33m'\u001b[39m\u001b[33m already exists and is not empty\u001b[39m\u001b[33m\"\u001b[39m,\n\u001b[32m    270\u001b[39m             error_code=RESOURCE_ALREADY_EXISTS,\n\u001b[32m    271\u001b[39m         )\n\u001b[32m    273\u001b[39m     os.makedirs(path, exist_ok=\u001b[38;5;28;01mTrue\u001b[39;00m)\n",
      "\u001b[31mMlflowException\u001b[39m: Path 'd:\\Github_repos\\mlops-zoomcamp\\02-experiment_tracking\\models_mlflow' already exists and is not empty"
     ]
    }
   ],
   "source": [
    "import mlflow.xgboost\n",
    "\n",
    "\n",
    "with mlflow.start_run():\n",
    "\n",
    "    best_params = {\n",
    "        'max_depth': 6,\n",
    "        'learning_rate': 0.1,\n",
    "        'reg_alpha': 0.1,\n",
    "        'reg_lambda': 0.1,\n",
    "        'min_child_weight': 1,\n",
    "        'objective': 'reg:linear',\n",
    "        'seed': 42,\n",
    "    }\n",
    "    mlflow.log_params(best_params)\n",
    "    booster = xgb.train(\n",
    "        params = best_params,\n",
    "        dtrain = train,\n",
    "        num_boost_round=1000,\n",
    "        evals=[(valid, 'validation')],\n",
    "        early_stopping_rounds=50,\n",
    "        verbose_eval=False   \n",
    "            ) \n",
    "        \n",
    "    y_pred = booster.predict(valid)\n",
    "    rmse = root_mean_squared_error(y_val, y_pred)\n",
    "    mlflow.log_metric(\"rmse\", rmse)\n",
    "    mlflow.log_param(\"booster\", booster)    \n",
    "    mlflow.xgboost.save_model(booster, path=\"models_mlflow\")\n"
   ]
  },
  {
   "cell_type": "code",
   "execution_count": null,
   "id": "8c55d31b",
   "metadata": {},
   "outputs": [],
   "source": []
  }
 ],
 "metadata": {
  "kernelspec": {
   "display_name": "MLOPs",
   "language": "python",
   "name": "python3"
  },
  "language_info": {
   "codemirror_mode": {
    "name": "ipython",
    "version": 3
   },
   "file_extension": ".py",
   "mimetype": "text/x-python",
   "name": "python",
   "nbconvert_exporter": "python",
   "pygments_lexer": "ipython3",
   "version": "3.12.9"
  }
 },
 "nbformat": 4,
 "nbformat_minor": 5
}
