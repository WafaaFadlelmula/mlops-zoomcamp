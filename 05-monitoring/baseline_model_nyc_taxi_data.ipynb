{
 "cells": [
  {
   "cell_type": "markdown",
   "id": "70d0c62c",
   "metadata": {},
   "source": [
    "# Baseline model for batch monitoring example"
   ]
  },
  {
   "cell_type": "code",
   "execution_count": null,
   "id": "c09a4d6a",
   "metadata": {},
   "outputs": [
    {
     "name": "stdout",
     "output_type": "stream",
     "text": [
      "Evidently version: 0.7.8\n",
      "\n",
      "Available modules in evidently:\n",
      "['BinaryClassification', 'ColumnType', 'DataDefinition', 'Dataset', 'MulticlassClassification', 'Recsys', 'Regression', 'Report', 'Run', 'compare', 'core', 'errors', 'legacy', 'llm', 'metrics', 'nbextension', 'pipeline', 'presets', 'pydantic_utils', 'tests', 'version_info']\n",
      "\n",
      "Available submodules:\n"
     ]
    }
   ],
   "source": [
    "import evidently\n",
    "print(f\"Evidently version: {evidently.__version__}\")\n",
    "\n",
    "# Let's see what's actually available in your installation\n",
    "import evidently\n",
    "print(\"\\nAvailable modules in evidently:\")\n",
    "print([item for item in dir(evidently) if not item.startswith('_')])\n",
    "\n",
    "# Let's also check what's in the top-level package\n",
    "import pkgutil\n",
    "import evidently\n",
    "print(\"\\nAvailable submodules:\")\n",
    "for importer, modname, ispkg in pkgutil.iter_modules(evidently.__path__):\n",
    "    print(f\"  {modname} (package: {ispkg})\")\n",
    "    \n",
    "    "
   ]
  },
  {
   "cell_type": "code",
   "execution_count": 33,
   "id": "ac895144",
   "metadata": {},
   "outputs": [
    {
     "name": "stdout",
     "output_type": "stream",
     "text": [
      "Available in evidently.presets:\n",
      "['ClassificationDummyQuality', 'ClassificationPreset', 'ClassificationQuality', 'ClassificationQualityByLabel', 'DataDriftPreset', 'DataSummaryPreset', 'DatasetStats', 'RegressionDummyQuality', 'RegressionPreset', 'RegressionQuality', 'TextEvals', 'ValueStats', 'classification', 'dataset_stats', 'drift', 'regression']\n",
      "\n",
      "Available in evidently.metrics:\n",
      "['AbsMaxError', 'Accuracy', 'AlmostConstantColumnsCount', 'AlmostDuplicatedColumnsCount', 'CategoryCount', 'ColumnCount', 'ConstantColumnsCount', 'DatasetMissingValueCount', 'DriftedColumnsCount', 'DummyAccuracy', 'DummyF1Score', 'DummyFNR', 'DummyFPR', 'DummyLogLoss', 'DummyMAE', 'DummyMAPE', 'DummyPrecision', 'DummyRMSE', 'DummyRecall', 'DummyRocAuc', 'DummyTNR', 'DummyTPR', 'DuplicatedColumnsCount', 'DuplicatedRowCount', 'EmptyColumnsCount', 'EmptyRowsCount', 'F1ByLabel', 'F1Score', 'FBetaTopK', 'FNR', 'FPR', 'GroupBy', 'HitRate', 'InListValueCount', 'InRangeValueCount', 'LogLoss', 'MAE', 'MAP', 'MAPE', 'MRR', 'MaxValue', 'MeanError', 'MeanValue', 'MedianValue', 'MinValue', 'MissingValueCount', 'NDCG', 'OutListValueCount', 'OutRangeValueCount', 'Precision', 'PrecisionByLabel', 'PrecisionTopK', 'QuantileValue', 'R2Score', 'RMSE', 'Recall', 'RecallByLabel', 'RecallTopK', 'RocAuc', 'RocAucByLabel', 'RowCount', 'ScoreDistribution', 'StdValue', 'TNR', 'TPR', 'UniqueValueCount', 'ValueDrift', 'classification', 'column_statistics', 'dataset_statistics', 'group_by', 'recsys', 'regression']\n"
     ]
    }
   ],
   "source": [
    "# Let's see what's available in the presets module\n",
    "import evidently.presets as presets\n",
    "print(\"Available in evidently.presets:\")\n",
    "preset_items = [item for item in dir(presets) if not item.startswith('_')]\n",
    "print(preset_items)\n",
    "\n",
    "# Let's also check what's in metrics\n",
    "import evidently.metrics as metrics\n",
    "print(\"\\nAvailable in evidently.metrics:\")\n",
    "metric_items = [item for item in dir(metrics) if not item.startswith('_')]\n",
    "print(metric_items)\n"
   ]
  },
  {
   "cell_type": "code",
   "execution_count": 83,
   "id": "09c30b39",
   "metadata": {},
   "outputs": [
    {
     "name": "stdout",
     "output_type": "stream",
     "text": [
      "All imports successful!\n"
     ]
    }
   ],
   "source": [
    "import requests\n",
    "import datetime\n",
    "import pandas as pd\n",
    "\n",
    "from evidently import Dataset\n",
    "from evidently import DataDefinition\n",
    "from evidently import Report\n",
    "from evidently.presets import DataDriftPreset, DataSummaryPreset\n",
    "# Remove the old metrics imports for now unless you specifically need them\n",
    "# from evidently.metrics import ValueDrift, DriftedColumnsCount, DatasetMissingValueCount\n",
    "\n",
    "from joblib import load, dump\n",
    "from tqdm import tqdm\n",
    "\n",
    "from sklearn.linear_model import LinearRegression\n",
    "from sklearn.metrics import mean_absolute_error, mean_absolute_percentage_error\n",
    "\n",
    "print(\"All imports successful!\")"
   ]
  },
  {
   "cell_type": "code",
   "execution_count": 84,
   "id": "0186afe5",
   "metadata": {},
   "outputs": [
    {
     "name": "stdout",
     "output_type": "stream",
     "text": [
      "Download files:\n"
     ]
    },
    {
     "name": "stderr",
     "output_type": "stream",
     "text": [
      "green_tripdata_2022-02.parquet: 100%|██████████| 1428262/1428262 [00:14<00:00, 98194.02it/s, save to ./data/green_tripdata_2022-02.parquet] \n",
      "green_tripdata_2022-01.parquet: 100%|██████████| 1254291/1254291 [00:14<00:00, 85516.66it/s, save to ./data/green_tripdata_2022-01.parquet] \n"
     ]
    }
   ],
   "source": [
    "files = [('green_tripdata_2022-02.parquet', './data'), ('green_tripdata_2022-01.parquet', './data')]\n",
    "\n",
    "print(\"Download files:\")\n",
    "for file, path in files:\n",
    "    url=f\"https://d37ci6vzurychx.cloudfront.net/trip-data/{file}\"\n",
    "    resp=requests.get(url, stream=True)\n",
    "    save_path=f\"{path}/{file}\"\n",
    "    with open(save_path, \"wb\") as handle:\n",
    "        for data in tqdm(resp.iter_content(),\n",
    "                        desc=f\"{file}\",\n",
    "                        postfix=f\"save to {save_path}\",\n",
    "                        total=int(resp.headers[\"Content-Length\"])):\n",
    "            handle.write(data)"
   ]
  },
  {
   "cell_type": "markdown",
   "id": "3ab76d4f",
   "metadata": {},
   "source": []
  },
  {
   "cell_type": "code",
   "execution_count": 85,
   "id": "f7dfd37a",
   "metadata": {},
   "outputs": [],
   "source": [
    "jan_data = pd.read_parquet('data/green_tripdata_2022-01.parquet')\n"
   ]
  },
  {
   "cell_type": "code",
   "execution_count": 86,
   "id": "dca35ea2",
   "metadata": {},
   "outputs": [
    {
     "data": {
      "text/html": [
       "<div>\n",
       "<style scoped>\n",
       "    .dataframe tbody tr th:only-of-type {\n",
       "        vertical-align: middle;\n",
       "    }\n",
       "\n",
       "    .dataframe tbody tr th {\n",
       "        vertical-align: top;\n",
       "    }\n",
       "\n",
       "    .dataframe thead th {\n",
       "        text-align: right;\n",
       "    }\n",
       "</style>\n",
       "<table border=\"1\" class=\"dataframe\">\n",
       "  <thead>\n",
       "    <tr style=\"text-align: right;\">\n",
       "      <th></th>\n",
       "      <th>VendorID</th>\n",
       "      <th>lpep_pickup_datetime</th>\n",
       "      <th>lpep_dropoff_datetime</th>\n",
       "      <th>RatecodeID</th>\n",
       "      <th>PULocationID</th>\n",
       "      <th>DOLocationID</th>\n",
       "      <th>passenger_count</th>\n",
       "      <th>trip_distance</th>\n",
       "      <th>fare_amount</th>\n",
       "      <th>extra</th>\n",
       "      <th>mta_tax</th>\n",
       "      <th>tip_amount</th>\n",
       "      <th>tolls_amount</th>\n",
       "      <th>improvement_surcharge</th>\n",
       "      <th>total_amount</th>\n",
       "      <th>payment_type</th>\n",
       "      <th>trip_type</th>\n",
       "      <th>congestion_surcharge</th>\n",
       "    </tr>\n",
       "  </thead>\n",
       "  <tbody>\n",
       "    <tr>\n",
       "      <th>count</th>\n",
       "      <td>62495.000000</td>\n",
       "      <td>62495</td>\n",
       "      <td>62495</td>\n",
       "      <td>56200.000000</td>\n",
       "      <td>62495.000000</td>\n",
       "      <td>62495.000000</td>\n",
       "      <td>56200.000000</td>\n",
       "      <td>62495.000000</td>\n",
       "      <td>62495.000000</td>\n",
       "      <td>62495.00000</td>\n",
       "      <td>62495.000000</td>\n",
       "      <td>62495.000000</td>\n",
       "      <td>62495.000000</td>\n",
       "      <td>62495.000000</td>\n",
       "      <td>62495.000000</td>\n",
       "      <td>56200.000000</td>\n",
       "      <td>56200.000000</td>\n",
       "      <td>56200.000000</td>\n",
       "    </tr>\n",
       "    <tr>\n",
       "      <th>mean</th>\n",
       "      <td>1.849508</td>\n",
       "      <td>2022-01-16 14:18:36.026354</td>\n",
       "      <td>2022-01-16 14:37:37.189551</td>\n",
       "      <td>1.198719</td>\n",
       "      <td>97.615041</td>\n",
       "      <td>135.969902</td>\n",
       "      <td>1.258399</td>\n",
       "      <td>77.758632</td>\n",
       "      <td>13.914000</td>\n",
       "      <td>0.34756</td>\n",
       "      <td>0.426322</td>\n",
       "      <td>1.666540</td>\n",
       "      <td>0.208182</td>\n",
       "      <td>0.297312</td>\n",
       "      <td>17.490532</td>\n",
       "      <td>1.403594</td>\n",
       "      <td>1.040925</td>\n",
       "      <td>0.706628</td>\n",
       "    </tr>\n",
       "    <tr>\n",
       "      <th>min</th>\n",
       "      <td>1.000000</td>\n",
       "      <td>2009-01-01 00:34:01</td>\n",
       "      <td>2009-01-01 17:05:20</td>\n",
       "      <td>1.000000</td>\n",
       "      <td>1.000000</td>\n",
       "      <td>1.000000</td>\n",
       "      <td>0.000000</td>\n",
       "      <td>0.000000</td>\n",
       "      <td>-65.000000</td>\n",
       "      <td>-4.50000</td>\n",
       "      <td>-0.500000</td>\n",
       "      <td>-0.860000</td>\n",
       "      <td>-6.550000</td>\n",
       "      <td>-0.300000</td>\n",
       "      <td>-71.850000</td>\n",
       "      <td>1.000000</td>\n",
       "      <td>1.000000</td>\n",
       "      <td>0.000000</td>\n",
       "    </tr>\n",
       "    <tr>\n",
       "      <th>25%</th>\n",
       "      <td>2.000000</td>\n",
       "      <td>2022-01-08 23:41:50</td>\n",
       "      <td>2022-01-08 23:55:28.500000</td>\n",
       "      <td>1.000000</td>\n",
       "      <td>55.000000</td>\n",
       "      <td>74.000000</td>\n",
       "      <td>1.000000</td>\n",
       "      <td>1.080000</td>\n",
       "      <td>7.000000</td>\n",
       "      <td>0.00000</td>\n",
       "      <td>0.500000</td>\n",
       "      <td>0.000000</td>\n",
       "      <td>0.000000</td>\n",
       "      <td>0.300000</td>\n",
       "      <td>9.360000</td>\n",
       "      <td>1.000000</td>\n",
       "      <td>1.000000</td>\n",
       "      <td>0.000000</td>\n",
       "    </tr>\n",
       "    <tr>\n",
       "      <th>50%</th>\n",
       "      <td>2.000000</td>\n",
       "      <td>2022-01-16 15:59:42</td>\n",
       "      <td>2022-01-16 16:17:00</td>\n",
       "      <td>1.000000</td>\n",
       "      <td>75.000000</td>\n",
       "      <td>137.000000</td>\n",
       "      <td>1.000000</td>\n",
       "      <td>1.900000</td>\n",
       "      <td>10.500000</td>\n",
       "      <td>0.00000</td>\n",
       "      <td>0.500000</td>\n",
       "      <td>1.000000</td>\n",
       "      <td>0.000000</td>\n",
       "      <td>0.300000</td>\n",
       "      <td>13.860000</td>\n",
       "      <td>1.000000</td>\n",
       "      <td>1.000000</td>\n",
       "      <td>0.000000</td>\n",
       "    </tr>\n",
       "    <tr>\n",
       "      <th>75%</th>\n",
       "      <td>2.000000</td>\n",
       "      <td>2022-01-24 09:16:50</td>\n",
       "      <td>2022-01-24 09:37:28</td>\n",
       "      <td>1.000000</td>\n",
       "      <td>130.000000</td>\n",
       "      <td>215.000000</td>\n",
       "      <td>1.000000</td>\n",
       "      <td>3.500000</td>\n",
       "      <td>17.000000</td>\n",
       "      <td>0.50000</td>\n",
       "      <td>0.500000</td>\n",
       "      <td>2.610000</td>\n",
       "      <td>0.000000</td>\n",
       "      <td>0.300000</td>\n",
       "      <td>21.050000</td>\n",
       "      <td>2.000000</td>\n",
       "      <td>1.000000</td>\n",
       "      <td>2.750000</td>\n",
       "    </tr>\n",
       "    <tr>\n",
       "      <th>max</th>\n",
       "      <td>2.000000</td>\n",
       "      <td>2022-01-31 23:57:37</td>\n",
       "      <td>2022-02-01 21:01:54</td>\n",
       "      <td>5.000000</td>\n",
       "      <td>265.000000</td>\n",
       "      <td>265.000000</td>\n",
       "      <td>8.000000</td>\n",
       "      <td>224481.380000</td>\n",
       "      <td>604.500000</td>\n",
       "      <td>4.50000</td>\n",
       "      <td>0.500000</td>\n",
       "      <td>76.770000</td>\n",
       "      <td>44.750000</td>\n",
       "      <td>0.300000</td>\n",
       "      <td>605.300000</td>\n",
       "      <td>5.000000</td>\n",
       "      <td>2.000000</td>\n",
       "      <td>2.750000</td>\n",
       "    </tr>\n",
       "    <tr>\n",
       "      <th>std</th>\n",
       "      <td>0.357556</td>\n",
       "      <td>NaN</td>\n",
       "      <td>NaN</td>\n",
       "      <td>0.862313</td>\n",
       "      <td>62.987311</td>\n",
       "      <td>77.590956</td>\n",
       "      <td>0.877743</td>\n",
       "      <td>2909.354163</td>\n",
       "      <td>12.088819</td>\n",
       "      <td>0.65781</td>\n",
       "      <td>0.181381</td>\n",
       "      <td>2.484928</td>\n",
       "      <td>1.257659</td>\n",
       "      <td>0.037201</td>\n",
       "      <td>13.623416</td>\n",
       "      <td>0.516316</td>\n",
       "      <td>0.198119</td>\n",
       "      <td>1.201632</td>\n",
       "    </tr>\n",
       "  </tbody>\n",
       "</table>\n",
       "</div>"
      ],
      "text/plain": [
       "           VendorID        lpep_pickup_datetime       lpep_dropoff_datetime  \\\n",
       "count  62495.000000                       62495                       62495   \n",
       "mean       1.849508  2022-01-16 14:18:36.026354  2022-01-16 14:37:37.189551   \n",
       "min        1.000000         2009-01-01 00:34:01         2009-01-01 17:05:20   \n",
       "25%        2.000000         2022-01-08 23:41:50  2022-01-08 23:55:28.500000   \n",
       "50%        2.000000         2022-01-16 15:59:42         2022-01-16 16:17:00   \n",
       "75%        2.000000         2022-01-24 09:16:50         2022-01-24 09:37:28   \n",
       "max        2.000000         2022-01-31 23:57:37         2022-02-01 21:01:54   \n",
       "std        0.357556                         NaN                         NaN   \n",
       "\n",
       "         RatecodeID  PULocationID  DOLocationID  passenger_count  \\\n",
       "count  56200.000000  62495.000000  62495.000000     56200.000000   \n",
       "mean       1.198719     97.615041    135.969902         1.258399   \n",
       "min        1.000000      1.000000      1.000000         0.000000   \n",
       "25%        1.000000     55.000000     74.000000         1.000000   \n",
       "50%        1.000000     75.000000    137.000000         1.000000   \n",
       "75%        1.000000    130.000000    215.000000         1.000000   \n",
       "max        5.000000    265.000000    265.000000         8.000000   \n",
       "std        0.862313     62.987311     77.590956         0.877743   \n",
       "\n",
       "       trip_distance   fare_amount        extra       mta_tax    tip_amount  \\\n",
       "count   62495.000000  62495.000000  62495.00000  62495.000000  62495.000000   \n",
       "mean       77.758632     13.914000      0.34756      0.426322      1.666540   \n",
       "min         0.000000    -65.000000     -4.50000     -0.500000     -0.860000   \n",
       "25%         1.080000      7.000000      0.00000      0.500000      0.000000   \n",
       "50%         1.900000     10.500000      0.00000      0.500000      1.000000   \n",
       "75%         3.500000     17.000000      0.50000      0.500000      2.610000   \n",
       "max    224481.380000    604.500000      4.50000      0.500000     76.770000   \n",
       "std      2909.354163     12.088819      0.65781      0.181381      2.484928   \n",
       "\n",
       "       tolls_amount  improvement_surcharge  total_amount  payment_type  \\\n",
       "count  62495.000000           62495.000000  62495.000000  56200.000000   \n",
       "mean       0.208182               0.297312     17.490532      1.403594   \n",
       "min       -6.550000              -0.300000    -71.850000      1.000000   \n",
       "25%        0.000000               0.300000      9.360000      1.000000   \n",
       "50%        0.000000               0.300000     13.860000      1.000000   \n",
       "75%        0.000000               0.300000     21.050000      2.000000   \n",
       "max       44.750000               0.300000    605.300000      5.000000   \n",
       "std        1.257659               0.037201     13.623416      0.516316   \n",
       "\n",
       "          trip_type  congestion_surcharge  \n",
       "count  56200.000000          56200.000000  \n",
       "mean       1.040925              0.706628  \n",
       "min        1.000000              0.000000  \n",
       "25%        1.000000              0.000000  \n",
       "50%        1.000000              0.000000  \n",
       "75%        1.000000              2.750000  \n",
       "max        2.000000              2.750000  \n",
       "std        0.198119              1.201632  "
      ]
     },
     "execution_count": 86,
     "metadata": {},
     "output_type": "execute_result"
    }
   ],
   "source": [
    "jan_data.describe()\n"
   ]
  },
  {
   "cell_type": "code",
   "execution_count": 87,
   "id": "865e1b25",
   "metadata": {},
   "outputs": [
    {
     "data": {
      "text/plain": [
       "(62495, 20)"
      ]
     },
     "execution_count": 87,
     "metadata": {},
     "output_type": "execute_result"
    }
   ],
   "source": [
    "jan_data.shape\n"
   ]
  },
  {
   "cell_type": "code",
   "execution_count": 88,
   "id": "b3ff9446",
   "metadata": {},
   "outputs": [],
   "source": [
    "# create target\n",
    "jan_data[\"duration_min\"] = jan_data.lpep_dropoff_datetime - jan_data.lpep_pickup_datetime\n",
    "jan_data.duration_min = jan_data.duration_min.apply(lambda td : float(td.total_seconds())/60)\n"
   ]
  },
  {
   "cell_type": "code",
   "execution_count": 89,
   "id": "bfce4072",
   "metadata": {},
   "outputs": [],
   "source": [
    "# filter out outliers\n",
    "jan_data = jan_data[(jan_data.duration_min >= 0) & (jan_data.duration_min <= 60)]\n",
    "jan_data = jan_data[(jan_data.passenger_count > 0) & (jan_data.passenger_count <= 8)]\n"
   ]
  },
  {
   "cell_type": "code",
   "execution_count": 41,
   "id": "eb1ee121",
   "metadata": {},
   "outputs": [
    {
     "data": {
      "text/plain": [
       "<Axes: >"
      ]
     },
     "execution_count": 41,
     "metadata": {},
     "output_type": "execute_result"
    },
    {
     "data": {
      "image/png": "[encoded data removed]",
      "text/plain": [
       "<Figure size 640x480 with 1 Axes>"
      ]
     },
     "metadata": {},
     "output_type": "display_data"
    }
   ],
   "source": [
    "jan_data.duration_min.hist()\n"
   ]
  },
  {
   "cell_type": "code",
   "execution_count": 90,
   "id": "c4d3ab74",
   "metadata": {},
   "outputs": [],
   "source": [
    "# data labeling\n",
    "target = \"duration_min\"\n",
    "num_features = [\"passenger_count\", \"trip_distance\", \"fare_amount\", \"total_amount\"]\n",
    "cat_features = [\"PULocationID\", \"DOLocationID\"]\n"
   ]
  },
  {
   "cell_type": "code",
   "execution_count": 91,
   "id": "63d13ce3",
   "metadata": {},
   "outputs": [
    {
     "data": {
      "text/plain": [
       "(55211, 21)"
      ]
     },
     "execution_count": 91,
     "metadata": {},
     "output_type": "execute_result"
    }
   ],
   "source": [
    "jan_data.shape\n"
   ]
  },
  {
   "cell_type": "code",
   "execution_count": 92,
   "id": "e912a683",
   "metadata": {},
   "outputs": [],
   "source": [
    "train_data = jan_data[:30000]\n",
    "val_data = jan_data[30000:]\n"
   ]
  },
  {
   "cell_type": "code",
   "execution_count": 93,
   "id": "dad98c25",
   "metadata": {},
   "outputs": [],
   "source": [
    "model = LinearRegression()\n"
   ]
  },
  {
   "cell_type": "code",
   "execution_count": 94,
   "id": "0df9bacc",
   "metadata": {},
   "outputs": [
    {
     "data": {
      "text/html": [
       "<style>#sk-container-id-2 {\n",
       "  /* Definition of color scheme common for light and dark mode */\n",
       "  --sklearn-color-text: #000;\n",
       "  --sklearn-color-text-muted: #666;\n",
       "  --sklearn-color-line: gray;\n",
       "  /* Definition of color scheme for unfitted estimators */\n",
       "  --sklearn-color-unfitted-level-0: #fff5e6;\n",
       "  --sklearn-color-unfitted-level-1: #f6e4d2;\n",
       "  --sklearn-color-unfitted-level-2: #ffe0b3;\n",
       "  --sklearn-color-unfitted-level-3: chocolate;\n",
       "  /* Definition of color scheme for fitted estimators */\n",
       "  --sklearn-color-fitted-level-0: #f0f8ff;\n",
       "  --sklearn-color-fitted-level-1: #d4ebff;\n",
       "  --sklearn-color-fitted-level-2: #b3dbfd;\n",
       "  --sklearn-color-fitted-level-3: cornflowerblue;\n",
       "\n",
       "  /* Specific color for light theme */\n",
       "  --sklearn-color-text-on-default-background: var(--sg-text-color, var(--theme-code-foreground, var(--jp-content-font-color1, black)));\n",
       "  --sklearn-color-background: var(--sg-background-color, var(--theme-background, var(--jp-layout-color0, white)));\n",
       "  --sklearn-color-border-box: var(--sg-text-color, var(--theme-code-foreground, var(--jp-content-font-color1, black)));\n",
       "  --sklearn-color-icon: #696969;\n",
       "\n",
       "  @media (prefers-color-scheme: dark) {\n",
       "    /* Redefinition of color scheme for dark theme */\n",
       "    --sklearn-color-text-on-default-background: var(--sg-text-color, var(--theme-code-foreground, var(--jp-content-font-color1, white)));\n",
       "    --sklearn-color-background: var(--sg-background-color, var(--theme-background, var(--jp-layout-color0, #111)));\n",
       "    --sklearn-color-border-box: var(--sg-text-color, var(--theme-code-foreground, var(--jp-content-font-color1, white)));\n",
       "    --sklearn-color-icon: #878787;\n",
       "  }\n",
       "}\n",
       "\n",
       "#sk-container-id-2 {\n",
       "  color: var(--sklearn-color-text);\n",
       "}\n",
       "\n",
       "#sk-container-id-2 pre {\n",
       "  padding: 0;\n",
       "}\n",
       "\n",
       "#sk-container-id-2 input.sk-hidden--visually {\n",
       "  border: 0;\n",
       "  clip: rect(1px 1px 1px 1px);\n",
       "  clip: rect(1px, 1px, 1px, 1px);\n",
       "  height: 1px;\n",
       "  margin: -1px;\n",
       "  overflow: hidden;\n",
       "  padding: 0;\n",
       "  position: absolute;\n",
       "  width: 1px;\n",
       "}\n",
       "\n",
       "#sk-container-id-2 div.sk-dashed-wrapped {\n",
       "  border: 1px dashed var(--sklearn-color-line);\n",
       "  margin: 0 0.4em 0.5em 0.4em;\n",
       "  box-sizing: border-box;\n",
       "  padding-bottom: 0.4em;\n",
       "  background-color: var(--sklearn-color-background);\n",
       "}\n",
       "\n",
       "#sk-container-id-2 div.sk-container {\n",
       "  /* jupyter's `normalize.less` sets `[hidden] { display: none; }`\n",
       "     but bootstrap.min.css set `[hidden] { display: none !important; }`\n",
       "     so we also need the `!important` here to be able to override the\n",
       "     default hidden behavior on the sphinx rendered scikit-learn.org.\n",
       "     See: https://github.com/scikit-learn/scikit-learn/issues/21755 */\n",
       "  display: inline-block !important;\n",
       "  position: relative;\n",
       "}\n",
       "\n",
       "#sk-container-id-2 div.sk-text-repr-fallback {\n",
       "  display: none;\n",
       "}\n",
       "\n",
       "div.sk-parallel-item,\n",
       "div.sk-serial,\n",
       "div.sk-item {\n",
       "  /* draw centered vertical line to link estimators */\n",
       "  background-image: linear-gradient(var(--sklearn-color-text-on-default-background), var(--sklearn-color-text-on-default-background));\n",
       "  background-size: 2px 100%;\n",
       "  background-repeat: no-repeat;\n",
       "  background-position: center center;\n",
       "}\n",
       "\n",
       "/* Parallel-specific style estimator block */\n",
       "\n",
       "#sk-container-id-2 div.sk-parallel-item::after {\n",
       "  content: \"\";\n",
       "  width: 100%;\n",
       "  border-bottom: 2px solid var(--sklearn-color-text-on-default-background);\n",
       "  flex-grow: 1;\n",
       "}\n",
       "\n",
       "#sk-container-id-2 div.sk-parallel {\n",
       "  display: flex;\n",
       "  align-items: stretch;\n",
       "  justify-content: center;\n",
       "  background-color: var(--sklearn-color-background);\n",
       "  position: relative;\n",
       "}\n",
       "\n",
       "#sk-container-id-2 div.sk-parallel-item {\n",
       "  display: flex;\n",
       "  flex-direction: column;\n",
       "}\n",
       "\n",
       "#sk-container-id-2 div.sk-parallel-item:first-child::after {\n",
       "  align-self: flex-end;\n",
       "  width: 50%;\n",
       "}\n",
       "\n",
       "#sk-container-id-2 div.sk-parallel-item:last-child::after {\n",
       "  align-self: flex-start;\n",
       "  width: 50%;\n",
       "}\n",
       "\n",
       "#sk-container-id-2 div.sk-parallel-item:only-child::after {\n",
       "  width: 0;\n",
       "}\n",
       "\n",
       "/* Serial-specific style estimator block */\n",
       "\n",
       "#sk-container-id-2 div.sk-serial {\n",
       "  display: flex;\n",
       "  flex-direction: column;\n",
       "  align-items: center;\n",
       "  background-color: var(--sklearn-color-background);\n",
       "  padding-right: 1em;\n",
       "  padding-left: 1em;\n",
       "}\n",
       "\n",
       "\n",
       "/* Toggleable style: style used for estimator/Pipeline/ColumnTransformer box that is\n",
       "clickable and can be expanded/collapsed.\n",
       "- Pipeline and ColumnTransformer use this feature and define the default style\n",
       "- Estimators will overwrite some part of the style using the `sk-estimator` class\n",
       "*/\n",
       "\n",
       "/* Pipeline and ColumnTransformer style (default) */\n",
       "\n",
       "#sk-container-id-2 div.sk-toggleable {\n",
       "  /* Default theme specific background. It is overwritten whether we have a\n",
       "  specific estimator or a Pipeline/ColumnTransformer */\n",
       "  background-color: var(--sklearn-color-background);\n",
       "}\n",
       "\n",
       "/* Toggleable label */\n",
       "#sk-container-id-2 label.sk-toggleable__label {\n",
       "  cursor: pointer;\n",
       "  display: flex;\n",
       "  width: 100%;\n",
       "  margin-bottom: 0;\n",
       "  padding: 0.5em;\n",
       "  box-sizing: border-box;\n",
       "  text-align: center;\n",
       "  align-items: start;\n",
       "  justify-content: space-between;\n",
       "  gap: 0.5em;\n",
       "}\n",
       "\n",
       "#sk-container-id-2 label.sk-toggleable__label .caption {\n",
       "  font-size: 0.6rem;\n",
       "  font-weight: lighter;\n",
       "  color: var(--sklearn-color-text-muted);\n",
       "}\n",
       "\n",
       "#sk-container-id-2 label.sk-toggleable__label-arrow:before {\n",
       "  /* Arrow on the left of the label */\n",
       "  content: \"▸\";\n",
       "  float: left;\n",
       "  margin-right: 0.25em;\n",
       "  color: var(--sklearn-color-icon);\n",
       "}\n",
       "\n",
       "#sk-container-id-2 label.sk-toggleable__label-arrow:hover:before {\n",
       "  color: var(--sklearn-color-text);\n",
       "}\n",
       "\n",
       "/* Toggleable content - dropdown */\n",
       "\n",
       "#sk-container-id-2 div.sk-toggleable__content {\n",
       "  max-height: 0;\n",
       "  max-width: 0;\n",
       "  overflow: hidden;\n",
       "  text-align: left;\n",
       "  /* unfitted */\n",
       "  background-color: var(--sklearn-color-unfitted-level-0);\n",
       "}\n",
       "\n",
       "#sk-container-id-2 div.sk-toggleable__content.fitted {\n",
       "  /* fitted */\n",
       "  background-color: var(--sklearn-color-fitted-level-0);\n",
       "}\n",
       "\n",
       "#sk-container-id-2 div.sk-toggleable__content pre {\n",
       "  margin: 0.2em;\n",
       "  border-radius: 0.25em;\n",
       "  color: var(--sklearn-color-text);\n",
       "  /* unfitted */\n",
       "  background-color: var(--sklearn-color-unfitted-level-0);\n",
       "}\n",
       "\n",
       "#sk-container-id-2 div.sk-toggleable__content.fitted pre {\n",
       "  /* unfitted */\n",
       "  background-color: var(--sklearn-color-fitted-level-0);\n",
       "}\n",
       "\n",
       "#sk-container-id-2 input.sk-toggleable__control:checked~div.sk-toggleable__content {\n",
       "  /* Expand drop-down */\n",
       "  max-height: 200px;\n",
       "  max-width: 100%;\n",
       "  overflow: auto;\n",
       "}\n",
       "\n",
       "#sk-container-id-2 input.sk-toggleable__control:checked~label.sk-toggleable__label-arrow:before {\n",
       "  content: \"▾\";\n",
       "}\n",
       "\n",
       "/* Pipeline/ColumnTransformer-specific style */\n",
       "\n",
       "#sk-container-id-2 div.sk-label input.sk-toggleable__control:checked~label.sk-toggleable__label {\n",
       "  color: var(--sklearn-color-text);\n",
       "  background-color: var(--sklearn-color-unfitted-level-2);\n",
       "}\n",
       "\n",
       "#sk-container-id-2 div.sk-label.fitted input.sk-toggleable__control:checked~label.sk-toggleable__label {\n",
       "  background-color: var(--sklearn-color-fitted-level-2);\n",
       "}\n",
       "\n",
       "/* Estimator-specific style */\n",
       "\n",
       "/* Colorize estimator box */\n",
       "#sk-container-id-2 div.sk-estimator input.sk-toggleable__control:checked~label.sk-toggleable__label {\n",
       "  /* unfitted */\n",
       "  background-color: var(--sklearn-color-unfitted-level-2);\n",
       "}\n",
       "\n",
       "#sk-container-id-2 div.sk-estimator.fitted input.sk-toggleable__control:checked~label.sk-toggleable__label {\n",
       "  /* fitted */\n",
       "  background-color: var(--sklearn-color-fitted-level-2);\n",
       "}\n",
       "\n",
       "#sk-container-id-2 div.sk-label label.sk-toggleable__label,\n",
       "#sk-container-id-2 div.sk-label label {\n",
       "  /* The background is the default theme color */\n",
       "  color: var(--sklearn-color-text-on-default-background);\n",
       "}\n",
       "\n",
       "/* On hover, darken the color of the background */\n",
       "#sk-container-id-2 div.sk-label:hover label.sk-toggleable__label {\n",
       "  color: var(--sklearn-color-text);\n",
       "  background-color: var(--sklearn-color-unfitted-level-2);\n",
       "}\n",
       "\n",
       "/* Label box, darken color on hover, fitted */\n",
       "#sk-container-id-2 div.sk-label.fitted:hover label.sk-toggleable__label.fitted {\n",
       "  color: var(--sklearn-color-text);\n",
       "  background-color: var(--sklearn-color-fitted-level-2);\n",
       "}\n",
       "\n",
       "/* Estimator label */\n",
       "\n",
       "#sk-container-id-2 div.sk-label label {\n",
       "  font-family: monospace;\n",
       "  font-weight: bold;\n",
       "  display: inline-block;\n",
       "  line-height: 1.2em;\n",
       "}\n",
       "\n",
       "#sk-container-id-2 div.sk-label-container {\n",
       "  text-align: center;\n",
       "}\n",
       "\n",
       "/* Estimator-specific */\n",
       "#sk-container-id-2 div.sk-estimator {\n",
       "  font-family: monospace;\n",
       "  border: 1px dotted var(--sklearn-color-border-box);\n",
       "  border-radius: 0.25em;\n",
       "  box-sizing: border-box;\n",
       "  margin-bottom: 0.5em;\n",
       "  /* unfitted */\n",
       "  background-color: var(--sklearn-color-unfitted-level-0);\n",
       "}\n",
       "\n",
       "#sk-container-id-2 div.sk-estimator.fitted {\n",
       "  /* fitted */\n",
       "  background-color: var(--sklearn-color-fitted-level-0);\n",
       "}\n",
       "\n",
       "/* on hover */\n",
       "#sk-container-id-2 div.sk-estimator:hover {\n",
       "  /* unfitted */\n",
       "  background-color: var(--sklearn-color-unfitted-level-2);\n",
       "}\n",
       "\n",
       "#sk-container-id-2 div.sk-estimator.fitted:hover {\n",
       "  /* fitted */\n",
       "  background-color: var(--sklearn-color-fitted-level-2);\n",
       "}\n",
       "\n",
       "/* Specification for estimator info (e.g. \"i\" and \"?\") */\n",
       "\n",
       "/* Common style for \"i\" and \"?\" */\n",
       "\n",
       ".sk-estimator-doc-link,\n",
       "a:link.sk-estimator-doc-link,\n",
       "a:visited.sk-estimator-doc-link {\n",
       "  float: right;\n",
       "  font-size: smaller;\n",
       "  line-height: 1em;\n",
       "  font-family: monospace;\n",
       "  background-color: var(--sklearn-color-background);\n",
       "  border-radius: 1em;\n",
       "  height: 1em;\n",
       "  width: 1em;\n",
       "  text-decoration: none !important;\n",
       "  margin-left: 0.5em;\n",
       "  text-align: center;\n",
       "  /* unfitted */\n",
       "  border: var(--sklearn-color-unfitted-level-1) 1pt solid;\n",
       "  color: var(--sklearn-color-unfitted-level-1);\n",
       "}\n",
       "\n",
       ".sk-estimator-doc-link.fitted,\n",
       "a:link.sk-estimator-doc-link.fitted,\n",
       "a:visited.sk-estimator-doc-link.fitted {\n",
       "  /* fitted */\n",
       "  border: var(--sklearn-color-fitted-level-1) 1pt solid;\n",
       "  color: var(--sklearn-color-fitted-level-1);\n",
       "}\n",
       "\n",
       "/* On hover */\n",
       "div.sk-estimator:hover .sk-estimator-doc-link:hover,\n",
       ".sk-estimator-doc-link:hover,\n",
       "div.sk-label-container:hover .sk-estimator-doc-link:hover,\n",
       ".sk-estimator-doc-link:hover {\n",
       "  /* unfitted */\n",
       "  background-color: var(--sklearn-color-unfitted-level-3);\n",
       "  color: var(--sklearn-color-background);\n",
       "  text-decoration: none;\n",
       "}\n",
       "\n",
       "div.sk-estimator.fitted:hover .sk-estimator-doc-link.fitted:hover,\n",
       ".sk-estimator-doc-link.fitted:hover,\n",
       "div.sk-label-container:hover .sk-estimator-doc-link.fitted:hover,\n",
       ".sk-estimator-doc-link.fitted:hover {\n",
       "  /* fitted */\n",
       "  background-color: var(--sklearn-color-fitted-level-3);\n",
       "  color: var(--sklearn-color-background);\n",
       "  text-decoration: none;\n",
       "}\n",
       "\n",
       "/* Span, style for the box shown on hovering the info icon */\n",
       ".sk-estimator-doc-link span {\n",
       "  display: none;\n",
       "  z-index: 9999;\n",
       "  position: relative;\n",
       "  font-weight: normal;\n",
       "  right: .2ex;\n",
       "  padding: .5ex;\n",
       "  margin: .5ex;\n",
       "  width: min-content;\n",
       "  min-width: 20ex;\n",
       "  max-width: 50ex;\n",
       "  color: var(--sklearn-color-text);\n",
       "  box-shadow: 2pt 2pt 4pt #999;\n",
       "  /* unfitted */\n",
       "  background: var(--sklearn-color-unfitted-level-0);\n",
       "  border: .5pt solid var(--sklearn-color-unfitted-level-3);\n",
       "}\n",
       "\n",
       ".sk-estimator-doc-link.fitted span {\n",
       "  /* fitted */\n",
       "  background: var(--sklearn-color-fitted-level-0);\n",
       "  border: var(--sklearn-color-fitted-level-3);\n",
       "}\n",
       "\n",
       ".sk-estimator-doc-link:hover span {\n",
       "  display: block;\n",
       "}\n",
       "\n",
       "/* \"?\"-specific style due to the `<a>` HTML tag */\n",
       "\n",
       "#sk-container-id-2 a.estimator_doc_link {\n",
       "  float: right;\n",
       "  font-size: 1rem;\n",
       "  line-height: 1em;\n",
       "  font-family: monospace;\n",
       "  background-color: var(--sklearn-color-background);\n",
       "  border-radius: 1rem;\n",
       "  height: 1rem;\n",
       "  width: 1rem;\n",
       "  text-decoration: none;\n",
       "  /* unfitted */\n",
       "  color: var(--sklearn-color-unfitted-level-1);\n",
       "  border: var(--sklearn-color-unfitted-level-1) 1pt solid;\n",
       "}\n",
       "\n",
       "#sk-container-id-2 a.estimator_doc_link.fitted {\n",
       "  /* fitted */\n",
       "  border: var(--sklearn-color-fitted-level-1) 1pt solid;\n",
       "  color: var(--sklearn-color-fitted-level-1);\n",
       "}\n",
       "\n",
       "/* On hover */\n",
       "#sk-container-id-2 a.estimator_doc_link:hover {\n",
       "  /* unfitted */\n",
       "  background-color: var(--sklearn-color-unfitted-level-3);\n",
       "  color: var(--sklearn-color-background);\n",
       "  text-decoration: none;\n",
       "}\n",
       "\n",
       "#sk-container-id-2 a.estimator_doc_link.fitted:hover {\n",
       "  /* fitted */\n",
       "  background-color: var(--sklearn-color-fitted-level-3);\n",
       "}\n",
       "</style><div id=\"sk-container-id-2\" class=\"sk-top-container\"><div class=\"sk-text-repr-fallback\"><pre>LinearRegression()</pre><b>In a Jupyter environment, please rerun this cell to show the HTML representation or trust the notebook. <br />On GitHub, the HTML representation is unable to render, please try loading this page with nbviewer.org.</b></div><div class=\"sk-container\" hidden><div class=\"sk-item\"><div class=\"sk-estimator fitted sk-toggleable\"><input class=\"sk-toggleable__control sk-hidden--visually\" id=\"sk-estimator-id-2\" type=\"checkbox\" checked><label for=\"sk-estimator-id-2\" class=\"sk-toggleable__label fitted sk-toggleable__label-arrow\"><div><div>LinearRegression</div></div><div><a class=\"sk-estimator-doc-link fitted\" rel=\"noreferrer\" target=\"_blank\" href=\"https://scikit-learn.org/1.6/modules/generated/sklearn.linear_model.LinearRegression.html\">?<span>Documentation for LinearRegression</span></a><span class=\"sk-estimator-doc-link fitted\">i<span>Fitted</span></span></div></label><div class=\"sk-toggleable__content fitted\"><pre>LinearRegression()</pre></div> </div></div></div></div>"
      ],
      "text/plain": [
       "LinearRegression()"
      ]
     },
     "execution_count": 94,
     "metadata": {},
     "output_type": "execute_result"
    }
   ],
   "source": [
    "model.fit(train_data[num_features + cat_features], train_data[target])\n"
   ]
  },
  {
   "cell_type": "code",
   "execution_count": 47,
   "id": "b1aa15a6",
   "metadata": {},
   "outputs": [],
   "source": [
    "train_preds = model.predict(train_data[num_features + cat_features])\n",
    "train_data['prediction'] = train_preds\n"
   ]
  },
  {
   "cell_type": "code",
   "execution_count": 48,
   "id": "73082786",
   "metadata": {},
   "outputs": [],
   "source": [
    "val_preds = model.predict(val_data[num_features + cat_features])\n",
    "val_data['prediction'] = val_preds\n"
   ]
  },
  {
   "cell_type": "code",
   "execution_count": 49,
   "id": "72af3149",
   "metadata": {},
   "outputs": [
    {
     "name": "stdout",
     "output_type": "stream",
     "text": [
      "3.804665373785064\n",
      "4.14206407368845\n"
     ]
    }
   ],
   "source": [
    "print(mean_absolute_error(train_data.duration_min, train_data.prediction))\n",
    "print(mean_absolute_error(val_data.duration_min, val_data.prediction))\n"
   ]
  },
  {
   "cell_type": "code",
   "execution_count": 50,
   "id": "bdc69292",
   "metadata": {},
   "outputs": [],
   "source": [
    "with open('models/lin_reg.bin', 'wb') as f_out:\n",
    "    dump(model, f_out)\n"
   ]
  },
  {
   "cell_type": "code",
   "execution_count": 51,
   "id": "a45a34ec",
   "metadata": {},
   "outputs": [],
   "source": [
    "val_data.to_parquet('data/reference.parquet')\n"
   ]
  },
  {
   "cell_type": "code",
   "execution_count": 95,
   "id": "ce433856",
   "metadata": {},
   "outputs": [],
   "source": [
    "column_mapping = ColumnMapping(\n",
    "    target=None,\n",
    "    prediction='prediction',\n",
    "    numerical_features=num_features,\n",
    "    categorical_features=cat_features\n",
    ")"
   ]
  },
  {
   "cell_type": "code",
   "execution_count": null,
   "id": "52fa94ff",
   "metadata": {},
   "outputs": [],
   "source": []
  },
  {
   "cell_type": "code",
   "execution_count": 114,
   "id": "81c74a94",
   "metadata": {},
   "outputs": [
    {
     "name": "stderr",
     "output_type": "stream",
     "text": [
      "WARNING: Skipping evidently as it is not installed.\n"
     ]
    }
   ],
   "source": [
    "# Try reinstalling evidently properly\n",
    "# Run these commands in separate cells:\n",
    "\n",
    "!pip uninstall evidently -y\n"
   ]
  },
  {
   "cell_type": "code",
   "execution_count": 115,
   "id": "c3fcbcb0",
   "metadata": {},
   "outputs": [
    {
     "name": "stdout",
     "output_type": "stream",
     "text": [
      "Collecting evidently==0.7.8\n",
      "  Using cached evidently-0.7.8-py3-none-any.whl.metadata (10 kB)\n",
      "Requirement already satisfied: plotly<6,>=5.10.0 in c:\\users\\ultracell\\anaconda3\\envs\\mlops\\lib\\site-packages (from evidently==0.7.8) (5.24.1)\n",
      "Requirement already satisfied: statsmodels>=0.12.2 in c:\\users\\ultracell\\anaconda3\\envs\\mlops\\lib\\site-packages (from evidently==0.7.8) (0.14.4)\n",
      "Requirement already satisfied: scikit-learn>=1.0.1 in c:\\users\\ultracell\\anaconda3\\envs\\mlops\\lib\\site-packages (from evidently==0.7.8) (1.6.1)\n",
      "Requirement already satisfied: pandas>=1.3.5 in c:\\users\\ultracell\\anaconda3\\envs\\mlops\\lib\\site-packages (from pandas[parquet]>=1.3.5->evidently==0.7.8) (2.2.3)\n",
      "Requirement already satisfied: numpy>=1.22.0 in c:\\users\\ultracell\\anaconda3\\envs\\mlops\\lib\\site-packages (from evidently==0.7.8) (1.26.4)\n",
      "Requirement already satisfied: nltk>=3.6.7 in c:\\users\\ultracell\\anaconda3\\envs\\mlops\\lib\\site-packages (from evidently==0.7.8) (3.9.1)\n",
      "Requirement already satisfied: scipy>=1.10.0 in c:\\users\\ultracell\\anaconda3\\envs\\mlops\\lib\\site-packages (from evidently==0.7.8) (1.15.3)\n",
      "Requirement already satisfied: requests>=2.32.0 in c:\\users\\ultracell\\anaconda3\\envs\\mlops\\lib\\site-packages (from evidently==0.7.8) (2.32.4)\n",
      "Requirement already satisfied: PyYAML>=5.4 in c:\\users\\ultracell\\anaconda3\\envs\\mlops\\lib\\site-packages (from evidently==0.7.8) (6.0.2)\n",
      "Requirement already satisfied: pydantic>=1.10.16 in c:\\users\\ultracell\\anaconda3\\envs\\mlops\\lib\\site-packages (from evidently==0.7.8) (1.10.22)\n",
      "Requirement already satisfied: litestar>=2.8.3 in c:\\users\\ultracell\\anaconda3\\envs\\mlops\\lib\\site-packages (from evidently==0.7.8) (2.16.0)\n",
      "Requirement already satisfied: typing-inspect>=0.9.0 in c:\\users\\ultracell\\anaconda3\\envs\\mlops\\lib\\site-packages (from evidently==0.7.8) (0.9.0)\n",
      "Requirement already satisfied: uvicorn>=0.22.0 in c:\\users\\ultracell\\anaconda3\\envs\\mlops\\lib\\site-packages (from uvicorn[standard]>=0.22.0->evidently==0.7.8) (0.34.2)\n",
      "Requirement already satisfied: watchdog>=3.0.0 in c:\\users\\ultracell\\anaconda3\\envs\\mlops\\lib\\site-packages (from evidently==0.7.8) (4.0.0)\n",
      "Requirement already satisfied: typer>=0.3 in c:\\users\\ultracell\\anaconda3\\envs\\mlops\\lib\\site-packages (from evidently==0.7.8) (0.16.0)\n",
      "Requirement already satisfied: rich>=13 in c:\\users\\ultracell\\anaconda3\\envs\\mlops\\lib\\site-packages (from evidently==0.7.8) (13.9.4)\n",
      "Requirement already satisfied: iterative-telemetry>=0.0.5 in c:\\users\\ultracell\\anaconda3\\envs\\mlops\\lib\\site-packages (from evidently==0.7.8) (0.0.10)\n",
      "Requirement already satisfied: dynaconf>=3.2.4 in c:\\users\\ultracell\\anaconda3\\envs\\mlops\\lib\\site-packages (from evidently==0.7.8) (3.2.11)\n",
      "Requirement already satisfied: certifi>=2024.7.4 in c:\\users\\ultracell\\anaconda3\\envs\\mlops\\lib\\site-packages (from evidently==0.7.8) (2025.4.26)\n",
      "Requirement already satisfied: urllib3>=1.26.19 in c:\\users\\ultracell\\anaconda3\\envs\\mlops\\lib\\site-packages (from evidently==0.7.8) (2.4.0)\n",
      "Requirement already satisfied: fsspec>=2024.6.1 in c:\\users\\ultracell\\anaconda3\\envs\\mlops\\lib\\site-packages (from evidently==0.7.8) (2025.3.2)\n",
      "Requirement already satisfied: ujson>=5.4.0 in c:\\users\\ultracell\\anaconda3\\envs\\mlops\\lib\\site-packages (from evidently==0.7.8) (5.10.0)\n",
      "Requirement already satisfied: deprecation>=2.1.0 in c:\\users\\ultracell\\anaconda3\\envs\\mlops\\lib\\site-packages (from evidently==0.7.8) (2.1.0)\n",
      "Requirement already satisfied: uuid6>=2024.7.10 in c:\\users\\ultracell\\anaconda3\\envs\\mlops\\lib\\site-packages (from evidently==0.7.8) (2025.0.0)\n",
      "Requirement already satisfied: cryptography>=43.0.1 in c:\\users\\ultracell\\anaconda3\\envs\\mlops\\lib\\site-packages (from evidently==0.7.8) (45.0.4)\n",
      "Requirement already satisfied: tenacity>=6.2.0 in c:\\users\\ultracell\\anaconda3\\envs\\mlops\\lib\\site-packages (from plotly<6,>=5.10.0->evidently==0.7.8) (9.1.2)\n",
      "Requirement already satisfied: packaging in c:\\users\\ultracell\\anaconda3\\envs\\mlops\\lib\\site-packages (from plotly<6,>=5.10.0->evidently==0.7.8) (24.2)\n",
      "Requirement already satisfied: cffi>=1.14 in c:\\users\\ultracell\\anaconda3\\envs\\mlops\\lib\\site-packages (from cryptography>=43.0.1->evidently==0.7.8) (1.17.1)\n",
      "Requirement already satisfied: pycparser in c:\\users\\ultracell\\anaconda3\\envs\\mlops\\lib\\site-packages (from cffi>=1.14->cryptography>=43.0.1->evidently==0.7.8) (2.22)\n",
      "Requirement already satisfied: appdirs in c:\\users\\ultracell\\anaconda3\\envs\\mlops\\lib\\site-packages (from iterative-telemetry>=0.0.5->evidently==0.7.8) (1.4.4)\n",
      "Requirement already satisfied: filelock in c:\\users\\ultracell\\anaconda3\\envs\\mlops\\lib\\site-packages (from iterative-telemetry>=0.0.5->evidently==0.7.8) (3.18.0)\n",
      "Requirement already satisfied: distro in c:\\users\\ultracell\\anaconda3\\envs\\mlops\\lib\\site-packages (from iterative-telemetry>=0.0.5->evidently==0.7.8) (1.9.0)\n",
      "Requirement already satisfied: anyio>=3 in c:\\users\\ultracell\\anaconda3\\envs\\mlops\\lib\\site-packages (from litestar>=2.8.3->evidently==0.7.8) (4.9.0)\n",
      "Requirement already satisfied: click in c:\\users\\ultracell\\anaconda3\\envs\\mlops\\lib\\site-packages (from litestar>=2.8.3->evidently==0.7.8) (8.1.8)\n",
      "Requirement already satisfied: httpx>=0.22 in c:\\users\\ultracell\\anaconda3\\envs\\mlops\\lib\\site-packages (from litestar>=2.8.3->evidently==0.7.8) (0.28.1)\n",
      "Requirement already satisfied: litestar-htmx>=0.4.0 in c:\\users\\ultracell\\anaconda3\\envs\\mlops\\lib\\site-packages (from litestar>=2.8.3->evidently==0.7.8) (0.5.0)\n",
      "Requirement already satisfied: msgspec>=0.18.2 in c:\\users\\ultracell\\anaconda3\\envs\\mlops\\lib\\site-packages (from litestar>=2.8.3->evidently==0.7.8) (0.19.0)\n",
      "Requirement already satisfied: multidict>=6.0.2 in c:\\users\\ultracell\\anaconda3\\envs\\mlops\\lib\\site-packages (from litestar>=2.8.3->evidently==0.7.8) (6.4.4)\n",
      "Requirement already satisfied: multipart>=1.2.0 in c:\\users\\ultracell\\anaconda3\\envs\\mlops\\lib\\site-packages (from litestar>=2.8.3->evidently==0.7.8) (1.2.1)\n",
      "Requirement already satisfied: polyfactory>=2.6.3 in c:\\users\\ultracell\\anaconda3\\envs\\mlops\\lib\\site-packages (from litestar>=2.8.3->evidently==0.7.8) (2.21.0)\n",
      "Requirement already satisfied: rich-click in c:\\users\\ultracell\\anaconda3\\envs\\mlops\\lib\\site-packages (from litestar>=2.8.3->evidently==0.7.8) (1.8.9)\n",
      "Requirement already satisfied: typing-extensions in c:\\users\\ultracell\\anaconda3\\envs\\mlops\\lib\\site-packages (from litestar>=2.8.3->evidently==0.7.8) (4.14.0)\n",
      "Requirement already satisfied: idna>=2.8 in c:\\users\\ultracell\\anaconda3\\envs\\mlops\\lib\\site-packages (from anyio>=3->litestar>=2.8.3->evidently==0.7.8) (3.10)\n",
      "Requirement already satisfied: sniffio>=1.1 in c:\\users\\ultracell\\anaconda3\\envs\\mlops\\lib\\site-packages (from anyio>=3->litestar>=2.8.3->evidently==0.7.8) (1.3.1)\n",
      "Requirement already satisfied: httpcore==1.* in c:\\users\\ultracell\\anaconda3\\envs\\mlops\\lib\\site-packages (from httpx>=0.22->litestar>=2.8.3->evidently==0.7.8) (1.0.9)\n",
      "Requirement already satisfied: h11>=0.16 in c:\\users\\ultracell\\anaconda3\\envs\\mlops\\lib\\site-packages (from httpcore==1.*->httpx>=0.22->litestar>=2.8.3->evidently==0.7.8) (0.16.0)\n",
      "Requirement already satisfied: joblib in c:\\users\\ultracell\\anaconda3\\envs\\mlops\\lib\\site-packages (from nltk>=3.6.7->evidently==0.7.8) (1.5.0)\n",
      "Requirement already satisfied: regex>=2021.8.3 in c:\\users\\ultracell\\anaconda3\\envs\\mlops\\lib\\site-packages (from nltk>=3.6.7->evidently==0.7.8) (2024.11.6)\n",
      "Requirement already satisfied: tqdm in c:\\users\\ultracell\\anaconda3\\envs\\mlops\\lib\\site-packages (from nltk>=3.6.7->evidently==0.7.8) (4.67.1)\n",
      "Requirement already satisfied: python-dateutil>=2.8.2 in c:\\users\\ultracell\\anaconda3\\envs\\mlops\\lib\\site-packages (from pandas>=1.3.5->pandas[parquet]>=1.3.5->evidently==0.7.8) (2.8.2)\n",
      "Requirement already satisfied: pytz>=2020.1 in c:\\users\\ultracell\\anaconda3\\envs\\mlops\\lib\\site-packages (from pandas>=1.3.5->pandas[parquet]>=1.3.5->evidently==0.7.8) (2025.2)\n",
      "Requirement already satisfied: tzdata>=2022.7 in c:\\users\\ultracell\\anaconda3\\envs\\mlops\\lib\\site-packages (from pandas>=1.3.5->pandas[parquet]>=1.3.5->evidently==0.7.8) (2025.2)\n",
      "Requirement already satisfied: pyarrow>=10.0.1 in c:\\users\\ultracell\\anaconda3\\envs\\mlops\\lib\\site-packages (from pandas[parquet]>=1.3.5->evidently==0.7.8) (19.0.1)\n",
      "Requirement already satisfied: faker>=5.0.0 in c:\\users\\ultracell\\anaconda3\\envs\\mlops\\lib\\site-packages (from polyfactory>=2.6.3->litestar>=2.8.3->evidently==0.7.8) (37.4.0)\n",
      "Requirement already satisfied: six>=1.5 in c:\\users\\ultracell\\anaconda3\\envs\\mlops\\lib\\site-packages (from python-dateutil>=2.8.2->pandas>=1.3.5->pandas[parquet]>=1.3.5->evidently==0.7.8) (1.17.0)\n",
      "Requirement already satisfied: charset_normalizer<4,>=2 in c:\\users\\ultracell\\anaconda3\\envs\\mlops\\lib\\site-packages (from requests>=2.32.0->evidently==0.7.8) (3.4.2)\n",
      "Requirement already satisfied: markdown-it-py>=2.2.0 in c:\\users\\ultracell\\anaconda3\\envs\\mlops\\lib\\site-packages (from rich>=13->evidently==0.7.8) (3.0.0)\n",
      "Requirement already satisfied: pygments<3.0.0,>=2.13.0 in c:\\users\\ultracell\\anaconda3\\envs\\mlops\\lib\\site-packages (from rich>=13->evidently==0.7.8) (2.19.1)\n",
      "Requirement already satisfied: mdurl~=0.1 in c:\\users\\ultracell\\anaconda3\\envs\\mlops\\lib\\site-packages (from markdown-it-py>=2.2.0->rich>=13->evidently==0.7.8) (0.1.2)\n",
      "Requirement already satisfied: threadpoolctl>=3.1.0 in c:\\users\\ultracell\\anaconda3\\envs\\mlops\\lib\\site-packages (from scikit-learn>=1.0.1->evidently==0.7.8) (3.6.0)\n",
      "Requirement already satisfied: patsy>=0.5.6 in c:\\users\\ultracell\\anaconda3\\envs\\mlops\\lib\\site-packages (from statsmodels>=0.12.2->evidently==0.7.8) (1.0.1)\n",
      "Requirement already satisfied: shellingham>=1.3.0 in c:\\users\\ultracell\\anaconda3\\envs\\mlops\\lib\\site-packages (from typer>=0.3->evidently==0.7.8) (1.5.4)\n",
      "Requirement already satisfied: colorama in c:\\users\\ultracell\\anaconda3\\envs\\mlops\\lib\\site-packages (from click->litestar>=2.8.3->evidently==0.7.8) (0.4.6)\n",
      "Requirement already satisfied: mypy-extensions>=0.3.0 in c:\\users\\ultracell\\anaconda3\\envs\\mlops\\lib\\site-packages (from typing-inspect>=0.9.0->evidently==0.7.8) (1.1.0)\n",
      "Requirement already satisfied: httptools>=0.6.3 in c:\\users\\ultracell\\anaconda3\\envs\\mlops\\lib\\site-packages (from uvicorn[standard]>=0.22.0->evidently==0.7.8) (0.6.4)\n",
      "Requirement already satisfied: python-dotenv>=0.13 in c:\\users\\ultracell\\anaconda3\\envs\\mlops\\lib\\site-packages (from uvicorn[standard]>=0.22.0->evidently==0.7.8) (1.1.0)\n",
      "Requirement already satisfied: watchfiles>=0.13 in c:\\users\\ultracell\\anaconda3\\envs\\mlops\\lib\\site-packages (from uvicorn[standard]>=0.22.0->evidently==0.7.8) (1.1.0)\n",
      "Requirement already satisfied: websockets>=10.4 in c:\\users\\ultracell\\anaconda3\\envs\\mlops\\lib\\site-packages (from uvicorn[standard]>=0.22.0->evidently==0.7.8) (15.0.1)\n",
      "Using cached evidently-0.7.8-py3-none-any.whl (5.2 MB)\n",
      "Installing collected packages: evidently\n",
      "Successfully installed evidently-0.7.8\n"
     ]
    }
   ],
   "source": [
    "!pip install evidently==0.7.8\n"
   ]
  },
  {
   "cell_type": "code",
   "execution_count": 116,
   "id": "84c89913",
   "metadata": {},
   "outputs": [
    {
     "name": "stdout",
     "output_type": "stream",
     "text": [
      "Requirement already satisfied: evidently[fsspec] in c:\\users\\ultracell\\anaconda3\\envs\\mlops\\lib\\site-packages (0.7.8)\n",
      "Requirement already satisfied: plotly<6,>=5.10.0 in c:\\users\\ultracell\\anaconda3\\envs\\mlops\\lib\\site-packages (from evidently[fsspec]) (5.24.1)\n",
      "Requirement already satisfied: statsmodels>=0.12.2 in c:\\users\\ultracell\\anaconda3\\envs\\mlops\\lib\\site-packages (from evidently[fsspec]) (0.14.4)\n",
      "Requirement already satisfied: scikit-learn>=1.0.1 in c:\\users\\ultracell\\anaconda3\\envs\\mlops\\lib\\site-packages (from evidently[fsspec]) (1.6.1)\n",
      "Requirement already satisfied: pandas>=1.3.5 in c:\\users\\ultracell\\anaconda3\\envs\\mlops\\lib\\site-packages (from pandas[parquet]>=1.3.5->evidently[fsspec]) (2.2.3)\n",
      "Requirement already satisfied: numpy>=1.22.0 in c:\\users\\ultracell\\anaconda3\\envs\\mlops\\lib\\site-packages (from evidently[fsspec]) (1.26.4)\n",
      "Requirement already satisfied: nltk>=3.6.7 in c:\\users\\ultracell\\anaconda3\\envs\\mlops\\lib\\site-packages (from evidently[fsspec]) (3.9.1)\n",
      "Requirement already satisfied: scipy>=1.10.0 in c:\\users\\ultracell\\anaconda3\\envs\\mlops\\lib\\site-packages (from evidently[fsspec]) (1.15.3)\n",
      "Requirement already satisfied: requests>=2.32.0 in c:\\users\\ultracell\\anaconda3\\envs\\mlops\\lib\\site-packages (from evidently[fsspec]) (2.32.4)\n",
      "Requirement already satisfied: PyYAML>=5.4 in c:\\users\\ultracell\\anaconda3\\envs\\mlops\\lib\\site-packages (from evidently[fsspec]) (6.0.2)\n",
      "Requirement already satisfied: pydantic>=1.10.16 in c:\\users\\ultracell\\anaconda3\\envs\\mlops\\lib\\site-packages (from evidently[fsspec]) (1.10.22)\n",
      "Requirement already satisfied: litestar>=2.8.3 in c:\\users\\ultracell\\anaconda3\\envs\\mlops\\lib\\site-packages (from evidently[fsspec]) (2.16.0)\n",
      "Requirement already satisfied: typing-inspect>=0.9.0 in c:\\users\\ultracell\\anaconda3\\envs\\mlops\\lib\\site-packages (from evidently[fsspec]) (0.9.0)\n",
      "Requirement already satisfied: uvicorn>=0.22.0 in c:\\users\\ultracell\\anaconda3\\envs\\mlops\\lib\\site-packages (from uvicorn[standard]>=0.22.0->evidently[fsspec]) (0.34.2)\n",
      "Requirement already satisfied: watchdog>=3.0.0 in c:\\users\\ultracell\\anaconda3\\envs\\mlops\\lib\\site-packages (from evidently[fsspec]) (4.0.0)\n",
      "Requirement already satisfied: typer>=0.3 in c:\\users\\ultracell\\anaconda3\\envs\\mlops\\lib\\site-packages (from evidently[fsspec]) (0.16.0)\n",
      "Requirement already satisfied: rich>=13 in c:\\users\\ultracell\\anaconda3\\envs\\mlops\\lib\\site-packages (from evidently[fsspec]) (13.9.4)\n",
      "Requirement already satisfied: iterative-telemetry>=0.0.5 in c:\\users\\ultracell\\anaconda3\\envs\\mlops\\lib\\site-packages (from evidently[fsspec]) (0.0.10)\n",
      "Requirement already satisfied: dynaconf>=3.2.4 in c:\\users\\ultracell\\anaconda3\\envs\\mlops\\lib\\site-packages (from evidently[fsspec]) (3.2.11)\n",
      "Requirement already satisfied: certifi>=2024.7.4 in c:\\users\\ultracell\\anaconda3\\envs\\mlops\\lib\\site-packages (from evidently[fsspec]) (2025.4.26)\n",
      "Requirement already satisfied: urllib3>=1.26.19 in c:\\users\\ultracell\\anaconda3\\envs\\mlops\\lib\\site-packages (from evidently[fsspec]) (2.4.0)\n",
      "Requirement already satisfied: fsspec>=2024.6.1 in c:\\users\\ultracell\\anaconda3\\envs\\mlops\\lib\\site-packages (from evidently[fsspec]) (2025.3.2)\n",
      "Requirement already satisfied: ujson>=5.4.0 in c:\\users\\ultracell\\anaconda3\\envs\\mlops\\lib\\site-packages (from evidently[fsspec]) (5.10.0)\n",
      "Requirement already satisfied: deprecation>=2.1.0 in c:\\users\\ultracell\\anaconda3\\envs\\mlops\\lib\\site-packages (from evidently[fsspec]) (2.1.0)\n",
      "Requirement already satisfied: uuid6>=2024.7.10 in c:\\users\\ultracell\\anaconda3\\envs\\mlops\\lib\\site-packages (from evidently[fsspec]) (2025.0.0)\n",
      "Requirement already satisfied: cryptography>=43.0.1 in c:\\users\\ultracell\\anaconda3\\envs\\mlops\\lib\\site-packages (from evidently[fsspec]) (45.0.4)\n",
      "Collecting s3fs>=2024.9.0 (from evidently[fsspec])\n",
      "  Downloading s3fs-2025.5.1-py3-none-any.whl.metadata (1.9 kB)\n",
      "Collecting gcsfs>=2024.9.0 (from evidently[fsspec])\n",
      "  Downloading gcsfs-2025.5.1-py2.py3-none-any.whl.metadata (1.9 kB)\n",
      "Requirement already satisfied: tenacity>=6.2.0 in c:\\users\\ultracell\\anaconda3\\envs\\mlops\\lib\\site-packages (from plotly<6,>=5.10.0->evidently[fsspec]) (9.1.2)\n",
      "Requirement already satisfied: packaging in c:\\users\\ultracell\\anaconda3\\envs\\mlops\\lib\\site-packages (from plotly<6,>=5.10.0->evidently[fsspec]) (24.2)\n",
      "Requirement already satisfied: cffi>=1.14 in c:\\users\\ultracell\\anaconda3\\envs\\mlops\\lib\\site-packages (from cryptography>=43.0.1->evidently[fsspec]) (1.17.1)\n",
      "Requirement already satisfied: pycparser in c:\\users\\ultracell\\anaconda3\\envs\\mlops\\lib\\site-packages (from cffi>=1.14->cryptography>=43.0.1->evidently[fsspec]) (2.22)\n",
      "Requirement already satisfied: aiohttp!=4.0.0a0,!=4.0.0a1 in c:\\users\\ultracell\\anaconda3\\envs\\mlops\\lib\\site-packages (from gcsfs>=2024.9.0->evidently[fsspec]) (3.10.0)\n",
      "Requirement already satisfied: decorator>4.1.2 in c:\\users\\ultracell\\anaconda3\\envs\\mlops\\lib\\site-packages (from gcsfs>=2024.9.0->evidently[fsspec]) (5.1.1)\n",
      "Collecting fsspec>=2024.6.1 (from evidently[fsspec])\n",
      "  Using cached fsspec-2025.5.1-py3-none-any.whl.metadata (11 kB)\n",
      "Requirement already satisfied: google-auth>=1.2 in c:\\users\\ultracell\\anaconda3\\envs\\mlops\\lib\\site-packages (from gcsfs>=2024.9.0->evidently[fsspec]) (2.40.1)\n",
      "Collecting google-auth-oauthlib (from gcsfs>=2024.9.0->evidently[fsspec])\n",
      "  Downloading google_auth_oauthlib-1.2.2-py3-none-any.whl.metadata (2.7 kB)\n",
      "Collecting google-cloud-storage (from gcsfs>=2024.9.0->evidently[fsspec])\n",
      "  Downloading google_cloud_storage-3.1.1-py3-none-any.whl.metadata (13 kB)\n",
      "Requirement already satisfied: aiohappyeyeballs>=2.3.0 in c:\\users\\ultracell\\anaconda3\\envs\\mlops\\lib\\site-packages (from aiohttp!=4.0.0a0,!=4.0.0a1->gcsfs>=2024.9.0->evidently[fsspec]) (2.6.1)\n",
      "Requirement already satisfied: aiosignal>=1.1.2 in c:\\users\\ultracell\\anaconda3\\envs\\mlops\\lib\\site-packages (from aiohttp!=4.0.0a0,!=4.0.0a1->gcsfs>=2024.9.0->evidently[fsspec]) (1.3.2)\n",
      "Requirement already satisfied: attrs>=17.3.0 in c:\\users\\ultracell\\anaconda3\\envs\\mlops\\lib\\site-packages (from aiohttp!=4.0.0a0,!=4.0.0a1->gcsfs>=2024.9.0->evidently[fsspec]) (25.3.0)\n",
      "Requirement already satisfied: frozenlist>=1.1.1 in c:\\users\\ultracell\\anaconda3\\envs\\mlops\\lib\\site-packages (from aiohttp!=4.0.0a0,!=4.0.0a1->gcsfs>=2024.9.0->evidently[fsspec]) (1.7.0)\n",
      "Requirement already satisfied: multidict<7.0,>=4.5 in c:\\users\\ultracell\\anaconda3\\envs\\mlops\\lib\\site-packages (from aiohttp!=4.0.0a0,!=4.0.0a1->gcsfs>=2024.9.0->evidently[fsspec]) (6.4.4)\n",
      "Requirement already satisfied: yarl<2.0,>=1.0 in c:\\users\\ultracell\\anaconda3\\envs\\mlops\\lib\\site-packages (from aiohttp!=4.0.0a0,!=4.0.0a1->gcsfs>=2024.9.0->evidently[fsspec]) (1.20.1)\n",
      "Requirement already satisfied: idna>=2.0 in c:\\users\\ultracell\\anaconda3\\envs\\mlops\\lib\\site-packages (from yarl<2.0,>=1.0->aiohttp!=4.0.0a0,!=4.0.0a1->gcsfs>=2024.9.0->evidently[fsspec]) (3.10)\n",
      "Requirement already satisfied: propcache>=0.2.1 in c:\\users\\ultracell\\anaconda3\\envs\\mlops\\lib\\site-packages (from yarl<2.0,>=1.0->aiohttp!=4.0.0a0,!=4.0.0a1->gcsfs>=2024.9.0->evidently[fsspec]) (0.3.2)\n",
      "Requirement already satisfied: cachetools<6.0,>=2.0.0 in c:\\users\\ultracell\\anaconda3\\envs\\mlops\\lib\\site-packages (from google-auth>=1.2->gcsfs>=2024.9.0->evidently[fsspec]) (5.5.2)\n",
      "Requirement already satisfied: pyasn1-modules>=0.2.1 in c:\\users\\ultracell\\anaconda3\\envs\\mlops\\lib\\site-packages (from google-auth>=1.2->gcsfs>=2024.9.0->evidently[fsspec]) (0.4.2)\n",
      "Requirement already satisfied: rsa<5,>=3.1.4 in c:\\users\\ultracell\\anaconda3\\envs\\mlops\\lib\\site-packages (from google-auth>=1.2->gcsfs>=2024.9.0->evidently[fsspec]) (4.9.1)\n",
      "Requirement already satisfied: pyasn1>=0.1.3 in c:\\users\\ultracell\\anaconda3\\envs\\mlops\\lib\\site-packages (from rsa<5,>=3.1.4->google-auth>=1.2->gcsfs>=2024.9.0->evidently[fsspec]) (0.6.1)\n",
      "Requirement already satisfied: appdirs in c:\\users\\ultracell\\anaconda3\\envs\\mlops\\lib\\site-packages (from iterative-telemetry>=0.0.5->evidently[fsspec]) (1.4.4)\n",
      "Requirement already satisfied: filelock in c:\\users\\ultracell\\anaconda3\\envs\\mlops\\lib\\site-packages (from iterative-telemetry>=0.0.5->evidently[fsspec]) (3.18.0)\n",
      "Requirement already satisfied: distro in c:\\users\\ultracell\\anaconda3\\envs\\mlops\\lib\\site-packages (from iterative-telemetry>=0.0.5->evidently[fsspec]) (1.9.0)\n",
      "Requirement already satisfied: anyio>=3 in c:\\users\\ultracell\\anaconda3\\envs\\mlops\\lib\\site-packages (from litestar>=2.8.3->evidently[fsspec]) (4.9.0)\n",
      "Requirement already satisfied: click in c:\\users\\ultracell\\anaconda3\\envs\\mlops\\lib\\site-packages (from litestar>=2.8.3->evidently[fsspec]) (8.1.8)\n",
      "Requirement already satisfied: httpx>=0.22 in c:\\users\\ultracell\\anaconda3\\envs\\mlops\\lib\\site-packages (from litestar>=2.8.3->evidently[fsspec]) (0.28.1)\n",
      "Requirement already satisfied: litestar-htmx>=0.4.0 in c:\\users\\ultracell\\anaconda3\\envs\\mlops\\lib\\site-packages (from litestar>=2.8.3->evidently[fsspec]) (0.5.0)\n",
      "Requirement already satisfied: msgspec>=0.18.2 in c:\\users\\ultracell\\anaconda3\\envs\\mlops\\lib\\site-packages (from litestar>=2.8.3->evidently[fsspec]) (0.19.0)\n",
      "Requirement already satisfied: multipart>=1.2.0 in c:\\users\\ultracell\\anaconda3\\envs\\mlops\\lib\\site-packages (from litestar>=2.8.3->evidently[fsspec]) (1.2.1)\n",
      "Requirement already satisfied: polyfactory>=2.6.3 in c:\\users\\ultracell\\anaconda3\\envs\\mlops\\lib\\site-packages (from litestar>=2.8.3->evidently[fsspec]) (2.21.0)\n",
      "Requirement already satisfied: rich-click in c:\\users\\ultracell\\anaconda3\\envs\\mlops\\lib\\site-packages (from litestar>=2.8.3->evidently[fsspec]) (1.8.9)\n",
      "Requirement already satisfied: typing-extensions in c:\\users\\ultracell\\anaconda3\\envs\\mlops\\lib\\site-packages (from litestar>=2.8.3->evidently[fsspec]) (4.14.0)\n",
      "Requirement already satisfied: sniffio>=1.1 in c:\\users\\ultracell\\anaconda3\\envs\\mlops\\lib\\site-packages (from anyio>=3->litestar>=2.8.3->evidently[fsspec]) (1.3.1)\n",
      "Requirement already satisfied: httpcore==1.* in c:\\users\\ultracell\\anaconda3\\envs\\mlops\\lib\\site-packages (from httpx>=0.22->litestar>=2.8.3->evidently[fsspec]) (1.0.9)\n",
      "Requirement already satisfied: h11>=0.16 in c:\\users\\ultracell\\anaconda3\\envs\\mlops\\lib\\site-packages (from httpcore==1.*->httpx>=0.22->litestar>=2.8.3->evidently[fsspec]) (0.16.0)\n",
      "Requirement already satisfied: joblib in c:\\users\\ultracell\\anaconda3\\envs\\mlops\\lib\\site-packages (from nltk>=3.6.7->evidently[fsspec]) (1.5.0)\n",
      "Requirement already satisfied: regex>=2021.8.3 in c:\\users\\ultracell\\anaconda3\\envs\\mlops\\lib\\site-packages (from nltk>=3.6.7->evidently[fsspec]) (2024.11.6)\n",
      "Requirement already satisfied: tqdm in c:\\users\\ultracell\\anaconda3\\envs\\mlops\\lib\\site-packages (from nltk>=3.6.7->evidently[fsspec]) (4.67.1)\n",
      "Requirement already satisfied: python-dateutil>=2.8.2 in c:\\users\\ultracell\\anaconda3\\envs\\mlops\\lib\\site-packages (from pandas>=1.3.5->pandas[parquet]>=1.3.5->evidently[fsspec]) (2.8.2)\n",
      "Requirement already satisfied: pytz>=2020.1 in c:\\users\\ultracell\\anaconda3\\envs\\mlops\\lib\\site-packages (from pandas>=1.3.5->pandas[parquet]>=1.3.5->evidently[fsspec]) (2025.2)\n",
      "Requirement already satisfied: tzdata>=2022.7 in c:\\users\\ultracell\\anaconda3\\envs\\mlops\\lib\\site-packages (from pandas>=1.3.5->pandas[parquet]>=1.3.5->evidently[fsspec]) (2025.2)\n",
      "Requirement already satisfied: pyarrow>=10.0.1 in c:\\users\\ultracell\\anaconda3\\envs\\mlops\\lib\\site-packages (from pandas[parquet]>=1.3.5->evidently[fsspec]) (19.0.1)\n",
      "Requirement already satisfied: faker>=5.0.0 in c:\\users\\ultracell\\anaconda3\\envs\\mlops\\lib\\site-packages (from polyfactory>=2.6.3->litestar>=2.8.3->evidently[fsspec]) (37.4.0)\n",
      "Requirement already satisfied: six>=1.5 in c:\\users\\ultracell\\anaconda3\\envs\\mlops\\lib\\site-packages (from python-dateutil>=2.8.2->pandas>=1.3.5->pandas[parquet]>=1.3.5->evidently[fsspec]) (1.17.0)\n",
      "Requirement already satisfied: charset_normalizer<4,>=2 in c:\\users\\ultracell\\anaconda3\\envs\\mlops\\lib\\site-packages (from requests>=2.32.0->evidently[fsspec]) (3.4.2)\n",
      "Requirement already satisfied: markdown-it-py>=2.2.0 in c:\\users\\ultracell\\anaconda3\\envs\\mlops\\lib\\site-packages (from rich>=13->evidently[fsspec]) (3.0.0)\n",
      "Requirement already satisfied: pygments<3.0.0,>=2.13.0 in c:\\users\\ultracell\\anaconda3\\envs\\mlops\\lib\\site-packages (from rich>=13->evidently[fsspec]) (2.19.1)\n",
      "Requirement already satisfied: mdurl~=0.1 in c:\\users\\ultracell\\anaconda3\\envs\\mlops\\lib\\site-packages (from markdown-it-py>=2.2.0->rich>=13->evidently[fsspec]) (0.1.2)\n",
      "Collecting aiobotocore<3.0.0,>=2.5.4 (from s3fs>=2024.9.0->evidently[fsspec])\n",
      "  Downloading aiobotocore-2.23.0-py3-none-any.whl.metadata (24 kB)\n",
      "Collecting aioitertools<1.0.0,>=0.5.1 (from aiobotocore<3.0.0,>=2.5.4->s3fs>=2024.9.0->evidently[fsspec])\n",
      "  Downloading aioitertools-0.12.0-py3-none-any.whl.metadata (3.8 kB)\n",
      "Collecting botocore<1.38.28,>=1.38.23 (from aiobotocore<3.0.0,>=2.5.4->s3fs>=2024.9.0->evidently[fsspec])\n",
      "  Downloading botocore-1.38.27-py3-none-any.whl.metadata (5.7 kB)\n",
      "Requirement already satisfied: jmespath<2.0.0,>=0.7.1 in c:\\users\\ultracell\\anaconda3\\envs\\mlops\\lib\\site-packages (from aiobotocore<3.0.0,>=2.5.4->s3fs>=2024.9.0->evidently[fsspec]) (1.0.1)\n",
      "Requirement already satisfied: wrapt<2.0.0,>=1.10.10 in c:\\users\\ultracell\\anaconda3\\envs\\mlops\\lib\\site-packages (from aiobotocore<3.0.0,>=2.5.4->s3fs>=2024.9.0->evidently[fsspec]) (1.17.2)\n",
      "Requirement already satisfied: threadpoolctl>=3.1.0 in c:\\users\\ultracell\\anaconda3\\envs\\mlops\\lib\\site-packages (from scikit-learn>=1.0.1->evidently[fsspec]) (3.6.0)\n",
      "Requirement already satisfied: patsy>=0.5.6 in c:\\users\\ultracell\\anaconda3\\envs\\mlops\\lib\\site-packages (from statsmodels>=0.12.2->evidently[fsspec]) (1.0.1)\n",
      "Requirement already satisfied: shellingham>=1.3.0 in c:\\users\\ultracell\\anaconda3\\envs\\mlops\\lib\\site-packages (from typer>=0.3->evidently[fsspec]) (1.5.4)\n",
      "Requirement already satisfied: colorama in c:\\users\\ultracell\\anaconda3\\envs\\mlops\\lib\\site-packages (from click->litestar>=2.8.3->evidently[fsspec]) (0.4.6)\n",
      "Requirement already satisfied: mypy-extensions>=0.3.0 in c:\\users\\ultracell\\anaconda3\\envs\\mlops\\lib\\site-packages (from typing-inspect>=0.9.0->evidently[fsspec]) (1.1.0)\n",
      "Requirement already satisfied: httptools>=0.6.3 in c:\\users\\ultracell\\anaconda3\\envs\\mlops\\lib\\site-packages (from uvicorn[standard]>=0.22.0->evidently[fsspec]) (0.6.4)\n",
      "Requirement already satisfied: python-dotenv>=0.13 in c:\\users\\ultracell\\anaconda3\\envs\\mlops\\lib\\site-packages (from uvicorn[standard]>=0.22.0->evidently[fsspec]) (1.1.0)\n",
      "Requirement already satisfied: watchfiles>=0.13 in c:\\users\\ultracell\\anaconda3\\envs\\mlops\\lib\\site-packages (from uvicorn[standard]>=0.22.0->evidently[fsspec]) (1.1.0)\n",
      "Requirement already satisfied: websockets>=10.4 in c:\\users\\ultracell\\anaconda3\\envs\\mlops\\lib\\site-packages (from uvicorn[standard]>=0.22.0->evidently[fsspec]) (15.0.1)\n",
      "Requirement already satisfied: requests-oauthlib>=0.7.0 in c:\\users\\ultracell\\anaconda3\\envs\\mlops\\lib\\site-packages (from google-auth-oauthlib->gcsfs>=2024.9.0->evidently[fsspec]) (2.0.0)\n",
      "Requirement already satisfied: oauthlib>=3.0.0 in c:\\users\\ultracell\\anaconda3\\envs\\mlops\\lib\\site-packages (from requests-oauthlib>=0.7.0->google-auth-oauthlib->gcsfs>=2024.9.0->evidently[fsspec]) (3.2.2)\n",
      "Collecting google-api-core<3.0.0,>=2.15.0 (from google-cloud-storage->gcsfs>=2024.9.0->evidently[fsspec])\n",
      "  Downloading google_api_core-2.25.1-py3-none-any.whl.metadata (3.0 kB)\n",
      "Collecting google-cloud-core<3.0.0,>=2.4.2 (from google-cloud-storage->gcsfs>=2024.9.0->evidently[fsspec])\n",
      "  Downloading google_cloud_core-2.4.3-py2.py3-none-any.whl.metadata (2.7 kB)\n",
      "Collecting google-resumable-media<3.0.0,>=2.7.2 (from google-cloud-storage->gcsfs>=2024.9.0->evidently[fsspec])\n",
      "  Downloading google_resumable_media-2.7.2-py2.py3-none-any.whl.metadata (2.2 kB)\n",
      "Collecting google-crc32c<2.0.0,>=1.1.3 (from google-cloud-storage->gcsfs>=2024.9.0->evidently[fsspec])\n",
      "  Downloading google_crc32c-1.7.1-cp312-cp312-win_amd64.whl.metadata (2.4 kB)\n",
      "Collecting googleapis-common-protos<2.0.0,>=1.56.2 (from google-api-core<3.0.0,>=2.15.0->google-cloud-storage->gcsfs>=2024.9.0->evidently[fsspec])\n",
      "  Downloading googleapis_common_protos-1.70.0-py3-none-any.whl.metadata (9.3 kB)\n",
      "Requirement already satisfied: protobuf!=3.20.0,!=3.20.1,!=4.21.0,!=4.21.1,!=4.21.2,!=4.21.3,!=4.21.4,!=4.21.5,<7.0.0,>=3.19.5 in c:\\users\\ultracell\\anaconda3\\envs\\mlops\\lib\\site-packages (from google-api-core<3.0.0,>=2.15.0->google-cloud-storage->gcsfs>=2024.9.0->evidently[fsspec]) (6.31.0)\n",
      "Collecting proto-plus<2.0.0,>=1.22.3 (from google-api-core<3.0.0,>=2.15.0->google-cloud-storage->gcsfs>=2024.9.0->evidently[fsspec])\n",
      "  Downloading proto_plus-1.26.1-py3-none-any.whl.metadata (2.2 kB)\n",
      "Downloading gcsfs-2025.5.1-py2.py3-none-any.whl (36 kB)\n",
      "Using cached fsspec-2025.5.1-py3-none-any.whl (199 kB)\n",
      "Downloading s3fs-2025.5.1-py3-none-any.whl (30 kB)\n",
      "Downloading aiobotocore-2.23.0-py3-none-any.whl (84 kB)\n",
      "Downloading aioitertools-0.12.0-py3-none-any.whl (24 kB)\n",
      "Downloading botocore-1.38.27-py3-none-any.whl (13.6 MB)\n",
      "   ---------------------------------------- 13.6/13.6 MB 35.5 MB/s eta 0:00:00\n",
      "Downloading google_auth_oauthlib-1.2.2-py3-none-any.whl (19 kB)\n",
      "Downloading google_cloud_storage-3.1.1-py3-none-any.whl (175 kB)\n",
      "Downloading google_api_core-2.25.1-py3-none-any.whl (160 kB)\n",
      "Downloading google_cloud_core-2.4.3-py2.py3-none-any.whl (29 kB)\n",
      "Downloading google_crc32c-1.7.1-cp312-cp312-win_amd64.whl (33 kB)\n",
      "Downloading google_resumable_media-2.7.2-py2.py3-none-any.whl (81 kB)\n",
      "Downloading googleapis_common_protos-1.70.0-py3-none-any.whl (294 kB)\n",
      "Downloading proto_plus-1.26.1-py3-none-any.whl (50 kB)\n",
      "Installing collected packages: proto-plus, googleapis-common-protos, google-crc32c, fsspec, aioitertools, google-resumable-media, botocore, google-auth-oauthlib, google-api-core, aiobotocore, s3fs, google-cloud-core, google-cloud-storage, gcsfs\n",
      "  Attempting uninstall: fsspec\n",
      "    Found existing installation: fsspec 2025.3.2\n",
      "    Uninstalling fsspec-2025.3.2:\n",
      "      Successfully uninstalled fsspec-2025.3.2\n",
      "  Attempting uninstall: botocore\n",
      "    Found existing installation: botocore 1.38.18\n",
      "    Uninstalling botocore-1.38.18:\n",
      "      Successfully uninstalled botocore-1.38.18\n",
      "\n",
      "Successfully installed aiobotocore-2.23.0 aioitertools-0.12.0 botocore-1.38.27 fsspec-2025.5.1 gcsfs-2025.5.1 google-api-core-2.25.1 google-auth-oauthlib-1.2.2 google-cloud-core-2.4.3 google-cloud-storage-3.1.1 google-crc32c-1.7.1 google-resumable-media-2.7.2 googleapis-common-protos-1.70.0 proto-plus-1.26.1 s3fs-2025.5.1\n"
     ]
    },
    {
     "name": "stderr",
     "output_type": "stream",
     "text": [
      "ERROR: pip's dependency resolver does not currently take into account all the packages that are installed. This behaviour is the source of the following dependency conflicts.\n",
      "mage-ai 0.9.76 requires cryptography==42.0.4, but you have cryptography 45.0.4 which is incompatible.\n",
      "mage-ai 0.9.76 requires Faker==4.14.0, but you have faker 37.4.0 which is incompatible.\n",
      "mage-ai 0.9.76 requires httpx==0.25.0, but you have httpx 0.28.1 which is incompatible.\n",
      "mage-ai 0.9.76 requires Jinja2==3.1.3, but you have jinja2 3.1.6 which is incompatible.\n",
      "mage-ai 0.9.76 requires requests~=2.31.0, but you have requests 2.32.4 which is incompatible.\n",
      "mage-ai 0.9.76 requires sqlalchemy<2.0.0,>=1.4.20, but you have sqlalchemy 2.0.41 which is incompatible.\n",
      "mage-ai 0.9.76 requires typer[all]==0.9.0, but you have typer 0.16.0 which is incompatible.\n",
      "mage-ai 0.9.76 requires typing_extensions==4.10.0, but you have typing-extensions 4.14.0 which is incompatible.\n",
      "prefect 3.4.5 requires pydantic!=2.10.0,<3.0.0,>=2.9, but you have pydantic 1.10.22 which is incompatible.\n"
     ]
    }
   ],
   "source": [
    "!pip install evidently[fsspec]"
   ]
  },
  {
   "cell_type": "code",
   "execution_count": 117,
   "id": "1744569d",
   "metadata": {},
   "outputs": [],
   "source": [
    "from evidently.metrics import ValueDrift, DriftedColumnsCount, DatasetMissingValueCount\n",
    "\n",
    "report = Report(metrics=[\n",
    "    ValueDrift(column='prediction'),       # Changed from column_name to column\n",
    "    DriftedColumnsCount(),                 \n",
    "    DatasetMissingValueCount()             \n",
    "])"
   ]
  },
  {
   "cell_type": "code",
   "execution_count": 118,
   "id": "d1da8417",
   "metadata": {},
   "outputs": [
    {
     "name": "stdout",
     "output_type": "stream",
     "text": [
      "Report saved to drift_report.html\n"
     ]
    }
   ],
   "source": [
    "from evidently import Dataset, DataDefinition\n",
    "\n",
    "# Update your DataDefinition to include the target column\n",
    "schema = DataDefinition(\n",
    "    numerical_columns=num_features + [target],  # Add target to numerical columns\n",
    "    categorical_columns=cat_features,\n",
    ")\n",
    "\n",
    "# Create Dataset objects\n",
    "train_dataset = Dataset.from_pandas(\n",
    "    train_data[num_features + cat_features + [target]], \n",
    "    data_definition=schema\n",
    ")\n",
    "\n",
    "val_dataset = Dataset.from_pandas(\n",
    "    val_data[num_features + cat_features + [target]], \n",
    "    data_definition=schema\n",
    ")\n",
    "\n",
    "# Run the report\n",
    "report = Report(metrics=[\n",
    "    ValueDrift(column='duration_min'),     # Monitor drift in your target\n",
    "    DriftedColumnsCount(),                 \n",
    "    DatasetMissingValueCount()             \n",
    "])\n",
    "\n",
    "# Run the report (this part worked)\n",
    "my_eval = report.run(reference_data=train_dataset, current_data=val_dataset)\n",
    "\n",
    "# Save to HTML file instead of displaying inline\n",
    "my_eval.save_html(\"drift_report.html\")\n",
    "print(\"Report saved to drift_report.html\")"
   ]
  },
  {
   "cell_type": "code",
   "execution_count": null,
   "id": "bbc09383",
   "metadata": {},
   "outputs": [],
   "source": []
  },
  {
   "cell_type": "code",
   "execution_count": 120,
   "id": "03ef1576",
   "metadata": {},
   "outputs": [
    {
     "data": {
      "text/plain": [
       "<evidently.core.report.Report at 0x2010853faa0>"
      ]
     },
     "metadata": {},
     "output_type": "display_data"
    }
   ],
   "source": [
    "# Try to display the report directly\n",
    "try:\n",
    "    display(report)\n",
    "except Exception as e:\n",
    "    print(f\"Display failed: {e}\")\n",
    "    # Try just calling the report object\n",
    "    report"
   ]
  },
  {
   "cell_type": "code",
   "execution_count": null,
   "id": "6c2d0f87",
   "metadata": {},
   "outputs": [
    {
     "data": {
      "text/plain": [
       "<evidently.core.report.Report at 0x20105b35580>"
      ]
     },
     "execution_count": 69,
     "metadata": {},
     "output_type": "execute_result"
    }
   ],
   "source": [
    "# Try to display the report directly in Jupyter\n",
    "report\n"
   ]
  },
  {
   "cell_type": "code",
   "execution_count": 126,
   "id": "0077595a",
   "metadata": {},
   "outputs": [
    {
     "name": "stdout",
     "output_type": "stream",
     "text": [
      "Type of my_eval: <class 'evidently.core.report.Snapshot'>\n",
      "Available methods: ['context', 'dict', 'dump_dict', 'dumps', 'get_html_str', 'json', 'load', 'load_dict', 'load_model', 'loads', 'render_only_fingerprint', 'report', 'run', 'save_html', 'save_json', 'tests_results', 'to_snapshot_model']\n"
     ]
    }
   ],
   "source": [
    "# Try different methods to get results\n",
    "print(\"Type of my_eval:\", type(my_eval))\n",
    "print(\"Available methods:\", [method for method in dir(my_eval) if not method.startswith('_')])"
   ]
  },
  {
   "cell_type": "code",
   "execution_count": 127,
   "id": "18f9aa51",
   "metadata": {},
   "outputs": [
    {
     "name": "stdout",
     "output_type": "stream",
     "text": [
      "=== DRIFT REPORT RESULTS ===\n",
      "Keys in result: ['metrics', 'tests']\n",
      "\n",
      "metrics:\n",
      "  [{'id': 'd001a44f99cec47d98f701cbcd29f4ab', 'metric_id': 'ValueDrift(column=duration_min)', 'value': 0.09248288726721808}, {'id': '15e89f895b482f9b84ba7274ed18a106', 'metric_id': 'DriftedColumnsCount(drift_share=0.5)', 'value': {'count': 0.0, 'share': 0.0}}, {'id': '89b8d715e93a15e3acbc483410aff2f4', 'metric_id': 'DatasetMissingValueCount()', 'value': {'count': 0.0, 'share': 0.0}}]\n",
      "\n",
      "tests:\n",
      "  []\n"
     ]
    }
   ],
   "source": [
    "# Option 1: Use dict() method\n",
    "try:\n",
    "    result = my_eval.dict()\n",
    "    print(\"=== DRIFT REPORT RESULTS ===\")\n",
    "    print(\"Keys in result:\", list(result.keys()))\n",
    "    \n",
    "    # Print organized results\n",
    "    for key, value in result.items():\n",
    "        print(f\"\\n{key}:\")\n",
    "        if isinstance(value, dict):\n",
    "            for sub_key, sub_value in value.items():\n",
    "                print(f\"  {sub_key}: {sub_value}\")\n",
    "        else:\n",
    "            print(f\"  {value}\")\n",
    "            \n",
    "except Exception as e:\n",
    "    print(f\"dict() failed: {e}\")"
   ]
  },
  {
   "cell_type": "code",
   "execution_count": 129,
   "id": "8cf4dc8e",
   "metadata": {},
   "outputs": [
    {
     "data": {
      "text/plain": [
       "{'metrics': [{'id': 'd001a44f99cec47d98f701cbcd29f4ab',\n",
       "   'metric_id': 'ValueDrift(column=duration_min)',\n",
       "   'value': 0.09248288726721808},\n",
       "  {'id': '15e89f895b482f9b84ba7274ed18a106',\n",
       "   'metric_id': 'DriftedColumnsCount(drift_share=0.5)',\n",
       "   'value': {'count': 0.0, 'share': 0.0}},\n",
       "  {'id': '89b8d715e93a15e3acbc483410aff2f4',\n",
       "   'metric_id': 'DatasetMissingValueCount()',\n",
       "   'value': {'count': 0.0, 'share': 0.0}}],\n",
       " 'tests': []}"
      ]
     },
     "execution_count": 129,
     "metadata": {},
     "output_type": "execute_result"
    }
   ],
   "source": [
    "result"
   ]
  },
  {
   "cell_type": "code",
   "execution_count": 131,
   "id": "19382882",
   "metadata": {},
   "outputs": [
    {
     "name": "stdout",
     "output_type": "stream",
     "text": [
      "Duration drift score: 0.09248288726721808\n"
     ]
    }
   ],
   "source": [
    "# The drift score is directly in 'value', not nested in 'result'\n",
    "drift_score = result['metrics'][0]['value']\n",
    "print(f\"Duration drift score: {drift_score}\")"
   ]
  },
  {
   "cell_type": "code",
   "execution_count": 132,
   "id": "783e6355",
   "metadata": {},
   "outputs": [
    {
     "name": "stdout",
     "output_type": "stream",
     "text": [
      "Number of drifted columns: 0.0\n"
     ]
    }
   ],
   "source": [
    "# Correct way to access number of drifted columns\n",
    "drifted_columns_count = result['metrics'][1]['value']['count']\n",
    "print(f\"Number of drifted columns: {drifted_columns_count}\")"
   ]
  },
  {
   "cell_type": "code",
   "execution_count": 133,
   "id": "270f43df",
   "metadata": {},
   "outputs": [
    {
     "name": "stdout",
     "output_type": "stream",
     "text": [
      "Share of missing values: 0.0\n"
     ]
    }
   ],
   "source": [
    "# Correct way to access share of missing values\n",
    "missing_values_share = result['metrics'][2]['value']['share']\n",
    "print(f\"Share of missing values: {missing_values_share}\")"
   ]
  },
  {
   "cell_type": "markdown",
   "id": "27e74c6e",
   "metadata": {},
   "source": [
    "# Evidently Dashboard\n"
   ]
  },
  {
   "cell_type": "code",
   "execution_count": 145,
   "id": "f45d393e",
   "metadata": {},
   "outputs": [],
   "source": [
    "from evidently.presets import DataDriftPreset, DataSummaryPreset\n",
    "from evidently.ui.workspace import Workspace\n",
    "from evidently.legacy.ui.dashboards import DashboardPanelCounter, DashboardPanelPlot, CounterAgg, PanelValue, PlotType, ReportFilter"
   ]
  },
  {
   "cell_type": "code",
   "execution_count": null,
   "id": "3787fbd4",
   "metadata": {},
   "outputs": [
    {
     "name": "stdout",
     "output_type": "stream",
     "text": [
      "✅ Workspace available\n",
      "❌ Dashboard components not available: No module named 'evidently.ui.dashboards'\n",
      "\n",
      "=== USING WORKSPACE (if available) ===\n",
      "✅ Workspace and project created successfully\n"
     ]
    }
   ],
   "source": []
  },
  {
   "cell_type": "code",
   "execution_count": 146,
   "id": "41c4ba3e",
   "metadata": {},
   "outputs": [
    {
     "name": "stdout",
     "output_type": "stream",
     "text": [
      "Workspace and project created successfully\n"
     ]
    }
   ],
   "source": [
    "# Create a simple WidgetSize class since the module isn't available\n",
    "class WidgetSize:\n",
    "    HALF = 1\n",
    "    FULL = 2\n",
    "\n",
    "# Create workspace and project\n",
    "ws = Workspace(\"workspace\")\n",
    "project = ws.create_project(\"NYC Taxi Data Quality Project\")\n",
    "project.description = \"My project description\"\n",
    "project.save()\n",
    "\n",
    "print(\"Workspace and project created successfully\")\n"
   ]
  },
  {
   "cell_type": "code",
   "execution_count": 152,
   "id": "4afbb872",
   "metadata": {},
   "outputs": [
    {
     "name": "stdout",
     "output_type": "stream",
     "text": [
      "New project created successfully\n"
     ]
    }
   ],
   "source": [
    "# Delete the old project and create a new one\n",
    "ws.delete_project(project.id)\n",
    "\n",
    "# Create a fresh project\n",
    "project = ws.create_project(\"NYC Taxi Data Quality Project v2\")\n",
    "project.description = \"My project description\"\n",
    "project.save()\n",
    "\n",
    "print(\"New project created successfully\")"
   ]
  },
  {
   "cell_type": "code",
   "execution_count": 153,
   "id": "d63b0ccd",
   "metadata": {},
   "outputs": [
    {
     "name": "stdout",
     "output_type": "stream",
     "text": [
      "Plot panel added successfully\n"
     ]
    }
   ],
   "source": [
    "# Add only the plot panel first\n",
    "project.dashboard.add_panel(\n",
    "    DashboardPanelPlot(\n",
    "        filter=ReportFilter(metadata_values={}, tag_values=[]),\n",
    "        title=\"Inference Count\",\n",
    "        values=[\n",
    "            PanelValue(\n",
    "                metric_id=\"DatasetSummaryMetric\",\n",
    "                field_path=\"current.number_of_rows\",\n",
    "                legend=\"count\"\n",
    "            ),\n",
    "        ],\n",
    "        plot_type=PlotType.BAR,\n",
    "        size=WidgetSize.HALF,\n",
    "    )\n",
    ")\n",
    "\n",
    "print(\"Plot panel added successfully\")"
   ]
  },
  {
   "cell_type": "code",
   "execution_count": 157,
   "id": "7646d912",
   "metadata": {},
   "outputs": [
    {
     "name": "stdout",
     "output_type": "stream",
     "text": [
      "Unexpected exception formatting exception. Falling back to standard exception\n"
     ]
    },
    {
     "name": "stderr",
     "output_type": "stream",
     "text": [
      "Traceback (most recent call last):\n",
      "  File \"c:\\Users\\Ultracell\\anaconda3\\envs\\MLOPs\\Lib\\site-packages\\IPython\\core\\interactiveshell.py\", line 3460, in run_code\n",
      "    exec(code_obj, self.user_global_ns, self.user_ns)\n",
      "  File \"C:\\Users\\Ultracell\\AppData\\Local\\Temp\\ipykernel_50584\\385186703.py\", line 2, in <module>\n",
      "    project.dashboard.add_panel(\n",
      "  File \"c:\\Users\\Ultracell\\anaconda3\\envs\\MLOPs\\Lib\\site-packages\\evidently\\ui\\workspace.py\", line 184, in add_panel\n",
      "    _dashboard_model = self.model()\n",
      "                       ^^^^^^^^^^^^\n",
      "  File \"c:\\Users\\Ultracell\\anaconda3\\envs\\MLOPs\\Lib\\site-packages\\evidently\\ui\\workspace.py\", line 230, in model\n",
      "    return self._workspace.get_dashboard(self.project_id)\n",
      "           ^^^^^^^^^^^^^^^^^^^^^^^^^^^^^^^^^^^^^^^^^^^^^^\n",
      "  File \"c:\\Users\\Ultracell\\anaconda3\\envs\\MLOPs\\Lib\\site-packages\\evidently\\ui\\workspace.py\", line 429, in get_dashboard\n",
      "    return self.state.read_dashboard(project_id)\n",
      "           ^^^^^^^^^^^^^^^^^^^^^^^^^^^^^^^^^^^^^\n",
      "  File \"c:\\Users\\Ultracell\\anaconda3\\envs\\MLOPs\\Lib\\site-packages\\evidently\\ui\\storage\\local\\base.py\", line 102, in read_dashboard\n",
      "    return parse_obj_as(DashboardModel, json.load(f))\n",
      "           ^^^^^^^^^^^^^^^^^^^^^^^^^^^^^^^^^^^^^^^^^^\n",
      "  File \"c:\\Users\\Ultracell\\anaconda3\\envs\\MLOPs\\Lib\\site-packages\\pydantic\\v1\\tools.py\", line 38, in parse_obj_as\n",
      "  File \"c:\\Users\\Ultracell\\anaconda3\\envs\\MLOPs\\Lib\\site-packages\\pydantic\\v1\\main.py\", line 341, in __init__\n",
      "pydantic.v1.error_wrappers.ValidationError: 1 validation error for ParsingModel[DashboardModel]\n",
      "__root__ -> panels -> 0 -> values -> 0 -> metric\n",
      "  field required (type=value_error.missing)\n",
      "\n",
      "During handling of the above exception, another exception occurred:\n",
      "\n",
      "Traceback (most recent call last):\n",
      "  File \"c:\\Users\\Ultracell\\anaconda3\\envs\\MLOPs\\Lib\\site-packages\\IPython\\core\\interactiveshell.py\", line 2057, in showtraceback\n",
      "    stb = self.InteractiveTB.structured_traceback(\n",
      "          ^^^^^^^^^^^^^^^^^^^^^^^^^^^^^^^^^^^^^^^^\n",
      "  File \"c:\\Users\\Ultracell\\anaconda3\\envs\\MLOPs\\Lib\\site-packages\\IPython\\core\\ultratb.py\", line 1118, in structured_traceback\n",
      "    return FormattedTB.structured_traceback(\n",
      "           ^^^^^^^^^^^^^^^^^^^^^^^^^^^^^^^^^\n",
      "  File \"c:\\Users\\Ultracell\\anaconda3\\envs\\MLOPs\\Lib\\site-packages\\IPython\\core\\ultratb.py\", line 1012, in structured_traceback\n",
      "    return VerboseTB.structured_traceback(\n",
      "           ^^^^^^^^^^^^^^^^^^^^^^^^^^^^^^^\n",
      "  File \"c:\\Users\\Ultracell\\anaconda3\\envs\\MLOPs\\Lib\\site-packages\\IPython\\core\\ultratb.py\", line 865, in structured_traceback\n",
      "    formatted_exception = self.format_exception_as_a_whole(etype, evalue, etb, number_of_lines_of_context,\n",
      "                          ^^^^^^^^^^^^^^^^^^^^^^^^^^^^^^^^^^^^^^^^^^^^^^^^^^^^^^^^^^^^^^^^^^^^^^^^^^^^^^^^\n",
      "  File \"c:\\Users\\Ultracell\\anaconda3\\envs\\MLOPs\\Lib\\site-packages\\IPython\\core\\ultratb.py\", line 818, in format_exception_as_a_whole\n",
      "    frames.append(self.format_record(r))\n",
      "                  ^^^^^^^^^^^^^^^^^^^^^\n",
      "  File \"c:\\Users\\Ultracell\\anaconda3\\envs\\MLOPs\\Lib\\site-packages\\IPython\\core\\ultratb.py\", line 736, in format_record\n",
      "    result += ''.join(_format_traceback_lines(frame_info.lines, Colors, self.has_colors, lvals))\n",
      "                                              ^^^^^^^^^^^^^^^^\n",
      "  File \"c:\\Users\\Ultracell\\anaconda3\\envs\\MLOPs\\Lib\\site-packages\\stack_data\\utils.py\", line 145, in cached_property_wrapper\n",
      "    value = obj.__dict__[self.func.__name__] = self.func(obj)\n",
      "                                               ^^^^^^^^^^^^^^\n",
      "  File \"c:\\Users\\Ultracell\\anaconda3\\envs\\MLOPs\\Lib\\site-packages\\stack_data\\core.py\", line 698, in lines\n",
      "    pieces = self.included_pieces\n",
      "             ^^^^^^^^^^^^^^^^^^^^\n",
      "  File \"c:\\Users\\Ultracell\\anaconda3\\envs\\MLOPs\\Lib\\site-packages\\stack_data\\utils.py\", line 145, in cached_property_wrapper\n",
      "    value = obj.__dict__[self.func.__name__] = self.func(obj)\n",
      "                                               ^^^^^^^^^^^^^^\n",
      "  File \"c:\\Users\\Ultracell\\anaconda3\\envs\\MLOPs\\Lib\\site-packages\\stack_data\\core.py\", line 649, in included_pieces\n",
      "    pos = scope_pieces.index(self.executing_piece)\n",
      "                             ^^^^^^^^^^^^^^^^^^^^\n",
      "  File \"c:\\Users\\Ultracell\\anaconda3\\envs\\MLOPs\\Lib\\site-packages\\stack_data\\utils.py\", line 145, in cached_property_wrapper\n",
      "    value = obj.__dict__[self.func.__name__] = self.func(obj)\n",
      "                                               ^^^^^^^^^^^^^^\n",
      "  File \"c:\\Users\\Ultracell\\anaconda3\\envs\\MLOPs\\Lib\\site-packages\\stack_data\\core.py\", line 628, in executing_piece\n",
      "    return only(\n",
      "           ^^^^^\n",
      "  File \"c:\\Users\\Ultracell\\anaconda3\\envs\\MLOPs\\Lib\\site-packages\\executing\\executing.py\", line 164, in only\n",
      "    raise NotOneValueFound('Expected one value, found 0')\n",
      "executing.executing.NotOneValueFound: Expected one value, found 0\n"
     ]
    }
   ],
   "source": [
    "# Add the missing values plot panel with metric_fingerprint\n",
    "project.dashboard.add_panel(\n",
    "    DashboardPanelPlot(\n",
    "        filter=ReportFilter(metadata_values={}, tag_values=[]),\n",
    "        title=\"Number of Missing Values\",\n",
    "        values=[\n",
    "            PanelValue(\n",
    "                metric_id=\"DatasetSummaryMetric\",\n",
    "                metric_fingerprint=\"DatasetSummaryMetric\", \n",
    "                field_path=\"current.number_of_missing_values\",\n",
    "                legend=\"count\"\n",
    "            ),\n",
    "        ],\n",
    "        plot_type=PlotType.LINE,\n",
    "        size=WidgetSize.HALF,\n",
    "    )\n",
    ")\n",
    "\n",
    "print(\"Missing values panel added successfully\")"
   ]
  },
  {
   "cell_type": "code",
   "execution_count": null,
   "id": "59671250",
   "metadata": {},
   "outputs": [
    {
     "name": "stdout",
     "output_type": "stream",
     "text": [
      "Project saved successfully\n"
     ]
    },
    {
     "ename": "",
     "evalue": "",
     "output_type": "error",
     "traceback": [
      "\u001b[1;31mThe Kernel crashed while executing code in the current cell or a previous cell. \n",
      "\u001b[1;31mPlease review the code in the cell(s) to identify a possible cause of the failure. \n",
      "\u001b[1;31mClick <a href='https://aka.ms/vscodeJupyterKernelCrash'>here</a> for more info. \n",
      "\u001b[1;31mView Jupyter <a href='command:jupyter.viewOutput'>log</a> for further details."
     ]
    }
   ],
   "source": [
    "# Save the project with just one panel\n",
    "project.save()\n",
    "print(\"Project saved successfully\")"
   ]
  },
  {
   "cell_type": "code",
   "execution_count": null,
   "id": "0661b852",
   "metadata": {},
   "outputs": [],
   "source": []
  },
  {
   "cell_type": "code",
   "execution_count": null,
   "id": "294e7d30",
   "metadata": {},
   "outputs": [],
   "source": []
  }
 ],
 "metadata": {
  "kernelspec": {
   "display_name": "MLOPs",
   "language": "python",
   "name": "python3"
  },
  "language_info": {
   "codemirror_mode": {
    "name": "ipython",
    "version": 3
   },
   "file_extension": ".py",
   "mimetype": "text/x-python",
   "name": "python",
   "nbconvert_exporter": "python",
   "pygments_lexer": "ipython3",
   "version": "3.12.9"
  }
 },
 "nbformat": 4,
 "nbformat_minor": 5
}
